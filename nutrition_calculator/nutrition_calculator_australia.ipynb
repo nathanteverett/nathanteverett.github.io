{
 "cells": [
  {
   "cell_type": "markdown",
   "metadata": {},
   "source": [
    "# Nutrition Calculator  - Australian Food Composition Database"
   ]
  },
  {
   "cell_type": "markdown",
   "metadata": {},
   "source": [
    "mission statement"
   ]
  },
  {
   "cell_type": "markdown",
   "metadata": {},
   "source": [
    "#### Data sources\n",
    "nutrition data: https://www.foodstandards.gov.au/science-data/monitoringnutrients/afcd \n",
    "<br> recommended intake data: https://www.myfooddata.com/articles/recommended-daily-intakes.php"
   ]
  },
  {
   "cell_type": "markdown",
   "metadata": {},
   "source": [
    "To Do:\n",
    "- Make units kiss\n",
    "    - Check certain foods\n",
    "- Add omega 6s properly\n",
    "- Add nutrients back in with improved data imputation\n",
    "    - Amino acids\n",
    "    - Sugars\n",
    "- Use classifier trained on recipe file to make appropraite food portions\n",
    "    - Use this to adjust lin prog restrictions\n",
    "- Do dot product of foods with DV\n",
    "    - Adjust weights on nutrients\n",
    "- How to interpret nutrient intakes\n",
    "    - Daily? +/- certain amount given that you make it up in a day?\n",
    "- Optimize lin prog w.r.t.\n",
    "    - Protein\n",
    "    - Fiber\n",
    "    - Calories\n",
    "- Make macro goals variable for function"
   ]
  },
  {
   "cell_type": "code",
   "execution_count": 1,
   "metadata": {},
   "outputs": [],
   "source": [
    "import pandas as pd\n",
    "import numpy as np\n",
    "import matplotlib.pyplot as plt\n",
    "import seaborn as sns\n",
    "import os\n",
    "sns.set()\n",
    "%matplotlib inline"
   ]
  },
  {
   "cell_type": "code",
   "execution_count": 2,
   "metadata": {},
   "outputs": [
    {
     "name": "stdout",
     "output_type": "stream",
     "text": [
      "Index(['Lysine'], dtype='object')\n"
     ]
    }
   ],
   "source": [
    "# Regex debugger #\n",
    "pattern = r'\\s?\\n\\(.+\\)'\n",
    "df = pd.DataFrame({'Lysine \\n(mg)':[1,2]})\n",
    "new_cols = df.columns.str.replace(pattern, '', regex=True)\n",
    "print(new_cols)"
   ]
  },
  {
   "cell_type": "code",
   "execution_count": 3,
   "metadata": {},
   "outputs": [
    {
     "data": {
      "text/html": [
       "<div>\n",
       "<style scoped>\n",
       "    .dataframe tbody tr th:only-of-type {\n",
       "        vertical-align: middle;\n",
       "    }\n",
       "\n",
       "    .dataframe tbody tr th {\n",
       "        vertical-align: top;\n",
       "    }\n",
       "\n",
       "    .dataframe thead th {\n",
       "        text-align: right;\n",
       "    }\n",
       "</style>\n",
       "<table border=\"1\" class=\"dataframe\">\n",
       "  <thead>\n",
       "    <tr style=\"text-align: right;\">\n",
       "      <th></th>\n",
       "      <th>RDI</th>\n",
       "      <th>DV</th>\n",
       "      <th>UL</th>\n",
       "    </tr>\n",
       "    <tr>\n",
       "      <th>Nutrient</th>\n",
       "      <th></th>\n",
       "      <th></th>\n",
       "      <th></th>\n",
       "    </tr>\n",
       "  </thead>\n",
       "  <tbody>\n",
       "    <tr>\n",
       "      <th>Calories</th>\n",
       "      <td>2000</td>\n",
       "      <td>2000</td>\n",
       "      <td>NaN</td>\n",
       "    </tr>\n",
       "    <tr>\n",
       "      <th>Fat</th>\n",
       "      <td>NaN</td>\n",
       "      <td>78g</td>\n",
       "      <td>NaN</td>\n",
       "    </tr>\n",
       "    <tr>\n",
       "      <th>Saturated Fat</th>\n",
       "      <td>NaN</td>\n",
       "      <td>20g</td>\n",
       "      <td>NaN</td>\n",
       "    </tr>\n",
       "    <tr>\n",
       "      <th>Cholesterol</th>\n",
       "      <td>NaN</td>\n",
       "      <td>300mg</td>\n",
       "      <td>NaN</td>\n",
       "    </tr>\n",
       "    <tr>\n",
       "      <th>Carbs</th>\n",
       "      <td>130g</td>\n",
       "      <td>275g</td>\n",
       "      <td>NaN</td>\n",
       "    </tr>\n",
       "  </tbody>\n",
       "</table>\n",
       "</div>"
      ],
      "text/plain": [
       "                RDI     DV   UL\n",
       "Nutrient                       \n",
       "Calories       2000   2000  NaN\n",
       "Fat             NaN    78g  NaN\n",
       "Saturated Fat   NaN    20g  NaN\n",
       "Cholesterol     NaN  300mg  NaN\n",
       "Carbs          130g   275g  NaN"
      ]
     },
     "execution_count": 3,
     "metadata": {},
     "output_type": "execute_result"
    }
   ],
   "source": [
    "# Import food and nutrition data #\n",
    "\n",
    "food = pd.read_excel('Australian_Food_Composition_Database/Food Details.xlsx') \n",
    "nutrient = pd.read_excel('Australian_Food_Composition_Database/Nutrient file.xlsx',\n",
    "                         sheet_name='All solids & liquids per 100g')\n",
    "\n",
    "## Need to drop percent fatty acid content, not necessary for calculation and data cleaning causes repition ##\n",
    "nutrient = nutrient.drop(columns = ['Total polyunsaturated fatty acids, equated (%T)', \n",
    "                          'Total long chain omega 3 fatty acids, equated \\n(%T)'])\n",
    "## Import Daily Value (DV) ##\n",
    "\n",
    "dv = pd.read_csv('daily value.csv', index_col=0)\n",
    "dv.head()"
   ]
  },
  {
   "cell_type": "code",
   "execution_count": 4,
   "metadata": {},
   "outputs": [
    {
     "name": "stdout",
     "output_type": "stream",
     "text": [
      "Number of columns in df before drop: 291\n",
      "Number of columns with % in header: 69\n",
      "Number of columns after dropping %: 222\n",
      "Number of columns with /gN in header: 18\n",
      "Number of columns after dropping /gN: 204\n"
     ]
    }
   ],
   "source": [
    "## Need to drop percent content columns. Not relevant to goal and causing duplicate columns later on ##\n",
    "print(\"Number of columns in df before drop:\", len(nutrient.columns))\n",
    "\n",
    "percent_pattern = r'\\(%\\w+\\)'\n",
    "percent_cols = nutrient.columns.str.contains(percent_pattern)\n",
    "print(\"Number of columns with % in header:\", percent_cols.sum())\n",
    "nutrient = nutrient.drop(columns = nutrient.columns[percent_cols])\n",
    "print(\"Number of columns after dropping %:\", len(nutrient.columns))\n",
    "\n",
    "gN_pattern = r'\\/gN'\n",
    "gN_cols = nutrient.columns.str.contains(gN_pattern)\n",
    "print(\"Number of columns with /gN in header:\", gN_cols.sum())\n",
    "nutrient = nutrient.drop(columns = nutrient.columns[gN_cols])\n",
    "print(\"Number of columns after dropping /gN:\", len(nutrient.columns))"
   ]
  },
  {
   "cell_type": "code",
   "execution_count": 5,
   "metadata": {
    "scrolled": true
   },
   "outputs": [
    {
     "data": {
      "text/html": [
       "<div>\n",
       "<style scoped>\n",
       "    .dataframe tbody tr th:only-of-type {\n",
       "        vertical-align: middle;\n",
       "    }\n",
       "\n",
       "    .dataframe tbody tr th {\n",
       "        vertical-align: top;\n",
       "    }\n",
       "\n",
       "    .dataframe thead th {\n",
       "        text-align: right;\n",
       "    }\n",
       "</style>\n",
       "<table border=\"1\" class=\"dataframe\">\n",
       "  <thead>\n",
       "    <tr style=\"text-align: right;\">\n",
       "      <th></th>\n",
       "      <th>Public Food Key</th>\n",
       "      <th>Classification</th>\n",
       "      <th>Food Name</th>\n",
       "      <th>Energy with dietary fibre, equated \\n(kJ)</th>\n",
       "      <th>Energy, without dietary fibre, equated \\n(kJ)</th>\n",
       "      <th>Moisture (water) \\n(g)</th>\n",
       "      <th>Protein \\n(g)</th>\n",
       "      <th>Nitrogen \\n(g)</th>\n",
       "      <th>Fat, total \\n(g)</th>\n",
       "      <th>Ash \\n(g)</th>\n",
       "      <th>...</th>\n",
       "      <th>Leucine \\n(mg)</th>\n",
       "      <th>Lysine \\n(mg)</th>\n",
       "      <th>Methionine \\n(mg)</th>\n",
       "      <th>Phenylalanine \\n(mg)</th>\n",
       "      <th>Proline \\n(mg)</th>\n",
       "      <th>Serine \\n(mg)</th>\n",
       "      <th>Threonine \\n(mg)</th>\n",
       "      <th>Tyrosine \\n(mg)</th>\n",
       "      <th>Tryptophan \\n(mg)</th>\n",
       "      <th>Valine \\n(mg)</th>\n",
       "    </tr>\n",
       "  </thead>\n",
       "  <tbody>\n",
       "    <tr>\n",
       "      <th>0</th>\n",
       "      <td>F002258</td>\n",
       "      <td>31302.0</td>\n",
       "      <td>Cardamom seed, dried, ground</td>\n",
       "      <td>1236</td>\n",
       "      <td>1012</td>\n",
       "      <td>8.3</td>\n",
       "      <td>10.8</td>\n",
       "      <td>1.72</td>\n",
       "      <td>6.7</td>\n",
       "      <td>5.8</td>\n",
       "      <td>...</td>\n",
       "      <td>NaN</td>\n",
       "      <td>NaN</td>\n",
       "      <td>NaN</td>\n",
       "      <td>NaN</td>\n",
       "      <td>NaN</td>\n",
       "      <td>NaN</td>\n",
       "      <td>NaN</td>\n",
       "      <td>NaN</td>\n",
       "      <td>155</td>\n",
       "      <td>NaN</td>\n",
       "    </tr>\n",
       "    <tr>\n",
       "      <th>1</th>\n",
       "      <td>F002893</td>\n",
       "      <td>31302.0</td>\n",
       "      <td>Chilli (chili), dried, ground</td>\n",
       "      <td>1280</td>\n",
       "      <td>1002</td>\n",
       "      <td>10.8</td>\n",
       "      <td>13.4</td>\n",
       "      <td>2.14</td>\n",
       "      <td>14.3</td>\n",
       "      <td>11.8</td>\n",
       "      <td>...</td>\n",
       "      <td>NaN</td>\n",
       "      <td>NaN</td>\n",
       "      <td>NaN</td>\n",
       "      <td>NaN</td>\n",
       "      <td>NaN</td>\n",
       "      <td>NaN</td>\n",
       "      <td>NaN</td>\n",
       "      <td>NaN</td>\n",
       "      <td>69</td>\n",
       "      <td>NaN</td>\n",
       "    </tr>\n",
       "    <tr>\n",
       "      <th>2</th>\n",
       "      <td>F002963</td>\n",
       "      <td>31302.0</td>\n",
       "      <td>Cinnamon, dried, ground</td>\n",
       "      <td>1004</td>\n",
       "      <td>579</td>\n",
       "      <td>10.6</td>\n",
       "      <td>4.0</td>\n",
       "      <td>0.64</td>\n",
       "      <td>1.2</td>\n",
       "      <td>3.6</td>\n",
       "      <td>...</td>\n",
       "      <td>NaN</td>\n",
       "      <td>NaN</td>\n",
       "      <td>NaN</td>\n",
       "      <td>NaN</td>\n",
       "      <td>NaN</td>\n",
       "      <td>NaN</td>\n",
       "      <td>NaN</td>\n",
       "      <td>NaN</td>\n",
       "      <td>49</td>\n",
       "      <td>NaN</td>\n",
       "    </tr>\n",
       "    <tr>\n",
       "      <th>3</th>\n",
       "      <td>F002970</td>\n",
       "      <td>31302.0</td>\n",
       "      <td>Cloves, dried, ground</td>\n",
       "      <td>1389</td>\n",
       "      <td>1118</td>\n",
       "      <td>9.9</td>\n",
       "      <td>6.0</td>\n",
       "      <td>0.96</td>\n",
       "      <td>13.0</td>\n",
       "      <td>5.6</td>\n",
       "      <td>...</td>\n",
       "      <td>NaN</td>\n",
       "      <td>NaN</td>\n",
       "      <td>NaN</td>\n",
       "      <td>NaN</td>\n",
       "      <td>NaN</td>\n",
       "      <td>NaN</td>\n",
       "      <td>NaN</td>\n",
       "      <td>NaN</td>\n",
       "      <td>30</td>\n",
       "      <td>NaN</td>\n",
       "    </tr>\n",
       "    <tr>\n",
       "      <th>4</th>\n",
       "      <td>F003190</td>\n",
       "      <td>31302.0</td>\n",
       "      <td>Coriander seed, dried, ground</td>\n",
       "      <td>1344</td>\n",
       "      <td>1009</td>\n",
       "      <td>8.9</td>\n",
       "      <td>12.4</td>\n",
       "      <td>1.98</td>\n",
       "      <td>17.8</td>\n",
       "      <td>6.0</td>\n",
       "      <td>...</td>\n",
       "      <td>NaN</td>\n",
       "      <td>NaN</td>\n",
       "      <td>NaN</td>\n",
       "      <td>NaN</td>\n",
       "      <td>NaN</td>\n",
       "      <td>NaN</td>\n",
       "      <td>NaN</td>\n",
       "      <td>NaN</td>\n",
       "      <td>178</td>\n",
       "      <td>NaN</td>\n",
       "    </tr>\n",
       "  </tbody>\n",
       "</table>\n",
       "<p>5 rows × 204 columns</p>\n",
       "</div>"
      ],
      "text/plain": [
       "  Public Food Key  Classification                      Food Name  \\\n",
       "0         F002258         31302.0   Cardamom seed, dried, ground   \n",
       "1         F002893         31302.0  Chilli (chili), dried, ground   \n",
       "2         F002963         31302.0        Cinnamon, dried, ground   \n",
       "3         F002970         31302.0          Cloves, dried, ground   \n",
       "4         F003190         31302.0  Coriander seed, dried, ground   \n",
       "\n",
       "   Energy with dietary fibre, equated \\n(kJ)  \\\n",
       "0                                       1236   \n",
       "1                                       1280   \n",
       "2                                       1004   \n",
       "3                                       1389   \n",
       "4                                       1344   \n",
       "\n",
       "   Energy, without dietary fibre, equated \\n(kJ)  Moisture (water) \\n(g)  \\\n",
       "0                                           1012                     8.3   \n",
       "1                                           1002                    10.8   \n",
       "2                                            579                    10.6   \n",
       "3                                           1118                     9.9   \n",
       "4                                           1009                     8.9   \n",
       "\n",
       "   Protein \\n(g)  Nitrogen \\n(g)  Fat, total \\n(g)  Ash \\n(g)  ...  \\\n",
       "0           10.8            1.72               6.7        5.8  ...   \n",
       "1           13.4            2.14              14.3       11.8  ...   \n",
       "2            4.0            0.64               1.2        3.6  ...   \n",
       "3            6.0            0.96              13.0        5.6  ...   \n",
       "4           12.4            1.98              17.8        6.0  ...   \n",
       "\n",
       "   Leucine \\n(mg)  Lysine \\n(mg)  Methionine \\n(mg)  Phenylalanine \\n(mg)  \\\n",
       "0             NaN            NaN                NaN                   NaN   \n",
       "1             NaN            NaN                NaN                   NaN   \n",
       "2             NaN            NaN                NaN                   NaN   \n",
       "3             NaN            NaN                NaN                   NaN   \n",
       "4             NaN            NaN                NaN                   NaN   \n",
       "\n",
       "   Proline \\n(mg)  Serine \\n(mg)  Threonine \\n(mg)  Tyrosine \\n(mg)  \\\n",
       "0             NaN            NaN               NaN              NaN   \n",
       "1             NaN            NaN               NaN              NaN   \n",
       "2             NaN            NaN               NaN              NaN   \n",
       "3             NaN            NaN               NaN              NaN   \n",
       "4             NaN            NaN               NaN              NaN   \n",
       "\n",
       "   Tryptophan \\n(mg)  Valine \\n(mg)  \n",
       "0                155            NaN  \n",
       "1                 69            NaN  \n",
       "2                 49            NaN  \n",
       "3                 30            NaN  \n",
       "4                178            NaN  \n",
       "\n",
       "[5 rows x 204 columns]"
      ]
     },
     "execution_count": 5,
     "metadata": {},
     "output_type": "execute_result"
    }
   ],
   "source": [
    "nutrient.head()"
   ]
  },
  {
   "cell_type": "markdown",
   "metadata": {},
   "source": [
    "## Data Cleaning"
   ]
  },
  {
   "cell_type": "code",
   "execution_count": 6,
   "metadata": {
    "scrolled": true
   },
   "outputs": [],
   "source": [
    "# Get rid of \\n's from headers #\n",
    "col_pattern = r'\\s?\\n\\(.+\\)'\n",
    "nutr_cols = nutrient.columns.str.replace(col_pattern, '', regex=True)\n",
    "new_cols = dict(zip(nutrient.columns, nutr_cols))\n",
    "nutrient_clean = nutrient.rename(columns=new_cols)\n",
    "\n",
    "# Change energy to calories #\n",
    "\n",
    "fiber=True #toggle this to change how calories from fiber are calculated\n",
    "\n",
    "if fiber==True:\n",
    "    energy_cols = {'Energy with dietary fibre, equated': 'Calories'}\n",
    "    nutrient_clean = nutrient_clean.rename(columns=energy_cols)\n",
    "    nutrient_clean = nutrient_clean.drop(columns='Energy, without dietary fibre, equated')\n",
    "\n",
    "else:\n",
    "    energy_cols = {'Energy, without dietary fibre, equated': 'Calories'}\n",
    "    nutrient_clean = nutrient_clean.rename(columns=energy_cols)\n",
    "    nutrient_clean = nutrient_clean.drop(columns='Energy with dietary fibre, equated')\n",
    "\n",
    "## Convert kJ to kCal ## \n",
    "nutrient_clean['Calories'] = nutrient_clean['Calories'].apply(lambda x: x/4.2)  #multiply kJ by this to get kcal"
   ]
  },
  {
   "cell_type": "code",
   "execution_count": 7,
   "metadata": {},
   "outputs": [],
   "source": [
    "# Extract Units From Cols#\n",
    "\n",
    "### Attempt 1 - Deleting###\n",
    "\"\"\"The main plan is to delete units in table header. Because every unit in both datasets are metric, an inconsistency \n",
    "in units would manifest as a 3 orders of magnitude off which will be investigated in further analysis.\"\"\"\n",
    "\n",
    "# Get rid of (abbrev.)#\n",
    "col_pattern = r' \\(.+\\)'\n",
    "nutr_cols = nutrient_clean.columns.str.replace(col_pattern, '',regex=True)\n",
    "new_cols = dict(zip(nutrient_clean.columns, nutr_cols))\n",
    "nutrient_clean = nutrient_clean.rename(columns=new_cols)\n"
   ]
  },
  {
   "cell_type": "code",
   "execution_count": 8,
   "metadata": {},
   "outputs": [
    {
     "data": {
      "text/plain": [
       "array(['Public Food Key', 'Classification', 'Food Name', 'Calories',\n",
       "       'Moisture', 'Protein', 'Nitrogen', 'Fat, total', 'Ash',\n",
       "       'Total dietary fibre', 'Alcohol', 'Fructose', 'Glucose', 'Sucrose',\n",
       "       'Maltose', 'Lactose', 'Galactose', 'Maltotrios', 'Total sugars',\n",
       "       'Added sugars', 'Free sugars', 'Starch', 'Dextrin', 'Glycerol',\n",
       "       'Glycogen', 'Inulin', 'Erythritol', 'Maltitol', 'Mannitol',\n",
       "       'Xylitol', 'Maltodextrin', 'Oligosaccharides ', 'Polydextrose',\n",
       "       'Raffinose', 'Stachyose', 'Sorbitol', 'Resistant starch',\n",
       "       'Available carbohydrate, without sugar alcohols',\n",
       "       'Available carbohydrate, with sugar alcohols', 'Acetic acid',\n",
       "       'Citric acid', 'Fumaric acid', 'Lactic acid', 'Malic acid\\n',\n",
       "       'Oxalic acid', 'Propionic acid', 'Quinic acid', 'Shikimic acid',\n",
       "       'Succinic acid', 'Tartaric acid', 'Aluminium', 'Antimony',\n",
       "       'Arsenic', 'Cadmium', 'Calcium', 'Chromium', 'Chloride', 'Cobalt',\n",
       "       'Copper', 'Fluoride', 'Iodine', 'Iron', 'Lead', 'Magnesium',\n",
       "       'Manganese', 'Mercury', 'Molybdenum', 'Nickel', 'Phosphorus',\n",
       "       'Potassium', 'Selenium', 'Sodium', 'Sulphur', 'Tin', 'Zinc',\n",
       "       'Retinol', 'Alpha-carotene', 'Beta-carotene', 'Cryptoxanthin',\n",
       "       'Beta-carotene equivalents', 'Vitamin A retinol equivalents',\n",
       "       'Lutein', 'Lycopene', 'Xanthophyl', 'Thiamin', 'Riboflavin',\n",
       "       'Niacin', 'Niacin derived from tryptophan',\n",
       "       'Niacin derived equivalents', 'Pantothenic acid', 'Pyridoxine',\n",
       "       'Biotin', 'Cobalamin', 'Folate, natural', 'Folic acid',\n",
       "       'Total folates', 'Dietary folate equivalents', 'Vitamin C',\n",
       "       'Cholecalciferol', 'Ergocalciferol', '25-hydroxy cholecalciferol',\n",
       "       '25-hydroxy ergocalciferol', 'Vitamin D3 equivalents',\n",
       "       'Alpha tocopherol', 'Alpha tocotrienol', 'Beta tocopherol',\n",
       "       'Beta tocotrienol', 'Delta tocopherol', 'Delta tocotrienol',\n",
       "       'Gamma tocopherol', 'Gamma tocotrienol', 'Vitamin E', 'C4', 'C6',\n",
       "       'C8', 'C10', 'C11', 'C12', 'C13', 'C14', 'C15', 'C16', 'C17',\n",
       "       'C18', 'C19', 'C20', 'C21', 'C22', 'C23', 'C24',\n",
       "       'Total saturated fatty acids, equated', 'C10:1', 'C12:1', 'C14:1',\n",
       "       'C15:1', 'C16:1', 'C17:1', 'C18:1', 'C18:1w5', 'C18:1w6',\n",
       "       'C18:1w7', 'C18:1w9', 'C20:1', 'C20:1w9', 'C20:1w13', 'C20:1w11',\n",
       "       'C22:1', 'C22:1w9', 'C22:1w11', 'C24:1', 'C24:1w9', 'C24:1w11',\n",
       "       'C24:1w13', 'Total monounsaturated fatty acids, equated', 'C12:2',\n",
       "       'C16:2w4', 'C16:3', 'C18:2w6', 'C18:3w3', 'C18:3w4', 'C18:3w6',\n",
       "       'C18:4w1', 'C18:4w3', 'C20:2', 'C20:2w6', 'C20:3', 'C20:3w3',\n",
       "       'C20:3w6', 'C20:4', 'C20:4w3', 'C20:4w6', 'C20:5w3', 'C21:5w3',\n",
       "       'C22:5w3', 'C22:4w6', 'C22:2', 'C22:2w6', 'C22:5w6', 'C22:6w3',\n",
       "       'Total polyunsaturated fatty acids, equated',\n",
       "       'Total long chain omega 3 fatty acids, equated',\n",
       "       'Total undifferentiated fatty acids, mass basis basis',\n",
       "       'Total trans fatty acids, imputed', 'Caffeine', 'Cholesterol',\n",
       "       'Alanine', 'Arginine', 'Aspartic acid', 'Cystine plus cysteine',\n",
       "       'Glutamic acid', 'Glycine', 'Histidine', 'Isoleucine', 'Leucine',\n",
       "       'Lysine', 'Methionine', 'Phenylalanine', 'Proline', 'Serine',\n",
       "       'Threonine', 'Tyrosine', 'Tryptophan', 'Valine'], dtype=object)"
      ]
     },
     "execution_count": 8,
     "metadata": {},
     "output_type": "execute_result"
    }
   ],
   "source": [
    "np.asarray(nutrient_clean.columns)"
   ]
  },
  {
   "cell_type": "code",
   "execution_count": 9,
   "metadata": {},
   "outputs": [],
   "source": [
    "# Need to change column names to be equivalent between food and DV #\n",
    "\n",
    "## Vitamins ##\n",
    "vitamins = {'Thiamin': 'Vitamin B1',\n",
    "'Riboflavin': 'Vitamin B2',\n",
    "'Niacin derived equivalents': 'Vitamin B3', \n",
    "'Pantothenic acid':'Vitamin B5',\n",
    "'Pyridoxine':'Vitamin B6',\n",
    "'Biotin': 'Vitamin B7',\n",
    "'Total folates': 'Vitamin B9',\n",
    "'Cobalamin': 'Vitamin B12',\n",
    "'Vitamin A retinol equivalents':'Vitamin A',\n",
    "'Vitamin D3 equivalents': 'Vitamin D'\n",
    "           }\n",
    "nutrient_clean = nutrient_clean.rename(columns=vitamins)\n",
    "\n",
    "## Fat ##\n",
    "nutrient_clean = nutrient_clean.rename(columns = {'Fat, total': 'Fat', \n",
    "                                                    'Total saturated fatty acids, equated': 'Saturated Fat',\n",
    "                                                   'Total long chain omega 3 fatty acids, equated': 'Omega 3s'\n",
    "                                                   })\n",
    "\n",
    "### Adding omega 6s from manual Calc ###\n",
    "### Assuming any polyunsaturated fat that isn't omega-3 is an omega-6\n",
    "nutrient_clean['Omega 6s'] = round(nutrient_clean['Total polyunsaturated fatty acids, equated'] - nutrient_clean['Omega 3s']*0.001,2)\n",
    "\n",
    "## Carbohydrates ##\n",
    "carbs = {'Total sugars':'Sugar',\n",
    "          'Total dietary fibre':'Fiber',\n",
    "        'Available carbohydrate, with sugar alcohols':'Carbs'}\n",
    "nutrient_clean = nutrient_clean.rename(columns=carbs)\n",
    "\n",
    "## Misc Nutrients ##\n",
    "\n",
    "misc_nutr = {'Cystine plus cysteine':'Cystine',\n",
    "            }\n",
    "nutrient_clean = nutrient_clean.rename(columns=misc_nutr)\n"
   ]
  },
  {
   "cell_type": "markdown",
   "metadata": {},
   "source": [
    "### Investigating NaN's"
   ]
  },
  {
   "cell_type": "code",
   "execution_count": 10,
   "metadata": {},
   "outputs": [
    {
     "name": "stdout",
     "output_type": "stream",
     "text": [
      "Number of foods with null leucine values: 1435 \n",
      "Number of foods with non-null: 181\n"
     ]
    }
   ],
   "source": [
    "# Look at nutrient NaNs and determine whether or not they represent 0's\n",
    "\n",
    "## Using leucine as an example \n",
    "leucine = nutrient_clean['Leucine']\n",
    "print('Number of foods with null leucine values:', leucine.isnull().sum(),\n",
    "      '\\nNumber of foods with non-null:', leucine.notnull().sum())\n",
    "\n",
    "notnull_leucine = nutrient_clean[leucine.notnull()]\n",
    "null_leucine = nutrient_clean[leucine.isnull()]\n",
    "\n",
    "\"\"\"The vast majority of foods are missing amino acid data. It would require combining an entire dataset which would\n",
    "involve matching food names accurately, which is outside of the scope of this project. Either food with missing data \n",
    "must be excluded, or we must exclude these nutrients from the fitting criteria. In order to preserve the most data\n",
    "possible, I an doing to drop the nutrients instead of the foods. For similar reasons as listed below, amino acids\n",
    "are subcategories of protein, which is included in the data set. I do believe the fitting of these nutrients, like\n",
    "many others being excluded, to be important and should be subject of an expansion to this study.\"\"\"\n",
    "\n",
    "# Make NaNs in food data 0 #\n",
    "# nutrient_values_only = nutrient_values_only.fillna(0)\n",
    "\n",
    "\n",
    "## Find columns with mostly NaN's and drop\n",
    "\n",
    "mostly_empty = []\n",
    "\n",
    "for cols in nutrient_clean:\n",
    "    if nutrient_clean[cols].isnull().sum() > nutrient_clean[cols].notnull().sum():\n",
    "        mostly_empty.append(cols)\n",
    "        \n",
    "nutrient_clean = nutrient_clean.drop(columns=mostly_empty)"
   ]
  },
  {
   "cell_type": "code",
   "execution_count": 11,
   "metadata": {},
   "outputs": [],
   "source": [
    "# Dropping carb types #\n",
    "\n",
    "\"\"\"In a similar vein, carbohydrates are non-essential nutrients (meaning there are no essential carbohydrates), so the\n",
    "carbohydrate composition is not important information. However, it is best to have complex carbohydrates instead of \n",
    "simple ones like fructose and starches. For now, the total carbohydrates and total sugar will behave as a good proxy\n",
    "measurement. Furthermore, having too many carbohydrate fitting variables, and too few protein and fat, could bias the\n",
    "output. For these reasons, all but these columns will be dropped. Including these nutrients with fat and amino acid \n",
    "compositions would serve as a valuable expansion of this model.\"\"\"\n",
    "\n",
    "carb_cols = ['Starch', 'Sucrose', 'Glucose', 'Fructose', 'Lactose', 'Maltose']\n",
    "dv = dv.drop(index=carb_cols)\n",
    "nutrient_clean = nutrient_clean.drop(columns=carb_cols)\n",
    "\n",
    "## Drop ash column, not a relevant nutrient ##\n",
    "nutrient_clean = nutrient_clean.drop(columns='Ash')"
   ]
  },
  {
   "cell_type": "code",
   "execution_count": 12,
   "metadata": {},
   "outputs": [],
   "source": [
    "def shared_columns(df1, df2):\n",
    "    \n",
    "    \"\"\"Finds which columns in df1 are and are not shared with df2\"\"\"\n",
    "    \n",
    "    df1_cols = df1.columns\n",
    "    df2_cols = df2.columns\n",
    "    \n",
    "    shared_cols = []\n",
    "    diff_cols = []\n",
    "    \n",
    "    for cols in df1_cols:\n",
    "        if cols in df2_cols:\n",
    "            shared_cols.append(cols)\n",
    "        else:\n",
    "            diff_cols.append(cols)\n",
    "    \n",
    "    return shared_cols, diff_cols"
   ]
  },
  {
   "cell_type": "code",
   "execution_count": 13,
   "metadata": {},
   "outputs": [
    {
     "name": "stdout",
     "output_type": "stream",
     "text": [
      "Dropping columns: ['Vitamin K', 'Choline', 'Lycopene', 'Lutein', 'Ash', 'Water', 'Galactose', 'Histidine', 'Threonine', 'Isoleucine', 'Lysine', 'Leucine', 'Methionine', 'Cystine', 'Phenylalanine', 'Tyrosine', 'Valine', 'Arginine', 'Alanine', 'Aspartic Acid', 'Glutamic Acid', 'Glycine', 'Proline', 'Serine', 'Hydroxyproline']\n",
      "Shared columns: 33 \n",
      "Different columns: 0\n"
     ]
    }
   ],
   "source": [
    "## Find DV columns that aren't equal to nutrient cols ##\n",
    "\n",
    "dv_clean = dv.rename(index={'Lutein+zeazanthin': 'Lutein'})\n",
    "nutr_cols = nutrient_clean.columns\n",
    "dv_shared = shared_columns(dv_clean.transpose(), nutrient_clean)\n",
    "\n",
    "\n",
    "\"\"\"This data does not exist in the food list df, therefore we will ignore these nutrients. Water is a \n",
    "nutrient that should be satisfied outside of food consumption. Therefore, it should be excluded\n",
    "from the analysis. Furthermore, the remaining incongruent sets are non-essential amino acids which can\n",
    "be produced in the human body, making it less important for consumption. Vitamin K and Choline\n",
    "are essential in the human diet. However, the food data set does not have this included. This data could \n",
    "be imputed in the event of expanding the model for a more robust study.\"\"\"\n",
    "\n",
    "dv_clean = dv_clean.drop(index=dv_shared[1])\n",
    "print(\"Dropping columns:\", dv_shared[1])\n",
    "dv_shared_dropped = shared_columns(dv_clean.transpose(), nutrient_clean)\n",
    "\n",
    "print(\"Shared columns:\", len(dv_shared_dropped[0]),\"\\nDifferent columns:\", len(dv_shared_dropped[1]))\n",
    "\n"
   ]
  },
  {
   "cell_type": "code",
   "execution_count": 14,
   "metadata": {},
   "outputs": [
    {
     "name": "stdout",
     "output_type": "stream",
     "text": [
      "Shared columns: 33 \n",
      "Different columns: 47\n",
      "Dropping excess nutrient columns ['Public Food Key', 'Classification', 'Food Name', 'Moisture', 'Nitrogen', 'Alcohol', 'Added sugars', 'Free sugars', 'Available carbohydrate, without sugar alcohols', 'Retinol', 'Alpha-carotene', 'Beta-carotene', 'Cryptoxanthin', 'Beta-carotene equivalents', 'Niacin', 'Niacin derived from tryptophan', 'Folate, natural', 'Folic acid', 'Dietary folate equivalents', 'Cholecalciferol', 'Ergocalciferol', '25-hydroxy cholecalciferol', '25-hydroxy ergocalciferol', 'Alpha tocopherol', 'C14', 'C15', 'C16', 'C17', 'C18', 'C22', 'C14:1', 'C16:1', 'C18:1', 'Total monounsaturated fatty acids, equated', 'C18:2w6', 'C18:3w3', 'C18:3w6', 'C20:2w6', 'C20:3w6', 'C20:4w6', 'C20:5w3', 'C22:5w3', 'C22:4w6', 'C22:6w3', 'Total polyunsaturated fatty acids, equated', 'Total trans fatty acids, imputed', 'Caffeine']\n",
      "Shared columns: 33 \n",
      "Different columns: 0\n"
     ]
    }
   ],
   "source": [
    "# Find nutrient columns that aren't in the DV columns #\n",
    "\n",
    "nutr_cols = nutrient_clean.columns\n",
    "nutr_shared = shared_columns(nutrient_clean, dv_clean.transpose())\n",
    "print(\"Shared columns:\", len(nutr_shared[0]),\"\\nDifferent columns:\", len(nutr_shared[1]))\n",
    "\n",
    "\"\"\"Much of the remaining dataset is anti-nutrients, subcategories of nutrients which are encapsulated by other\n",
    "nutrients, and nutrients which have no recommended value. Currently, anti-nutrients are not in the scope of this\n",
    "study but could be a valuable addition later. Therefore, I will drop all excess columns except the food name\n",
    "column.\"\"\"\n",
    "\n",
    "food_name = nutrient_clean['Food Name']\n",
    "print(\"Dropping excess nutrient columns\", nutr_shared[1])\n",
    "\n",
    "nutrient_values_only = nutrient_clean.drop(columns=nutr_shared[1])\n",
    "nutr_shared = shared_columns(dv_clean.transpose(), nutrient_values_only)\n",
    "print(\"Shared columns:\", len(nutr_shared[0]),\"\\nDifferent columns:\", len(nutr_shared[1]))\n",
    "# print(nutr_shared[1])"
   ]
  },
  {
   "cell_type": "code",
   "execution_count": 15,
   "metadata": {},
   "outputs": [
    {
     "data": {
      "text/html": [
       "<div>\n",
       "<style scoped>\n",
       "    .dataframe tbody tr th:only-of-type {\n",
       "        vertical-align: middle;\n",
       "    }\n",
       "\n",
       "    .dataframe tbody tr th {\n",
       "        vertical-align: top;\n",
       "    }\n",
       "\n",
       "    .dataframe thead th {\n",
       "        text-align: right;\n",
       "    }\n",
       "</style>\n",
       "<table border=\"1\" class=\"dataframe\">\n",
       "  <thead>\n",
       "    <tr style=\"text-align: right;\">\n",
       "      <th></th>\n",
       "      <th>Calories</th>\n",
       "      <th>Protein</th>\n",
       "      <th>Fat</th>\n",
       "      <th>Fiber</th>\n",
       "      <th>Sugar</th>\n",
       "      <th>Carbs</th>\n",
       "      <th>Calcium</th>\n",
       "      <th>Copper</th>\n",
       "      <th>Iodine</th>\n",
       "      <th>Iron</th>\n",
       "      <th>...</th>\n",
       "      <th>Vitamin B12</th>\n",
       "      <th>Vitamin B9</th>\n",
       "      <th>Vitamin C</th>\n",
       "      <th>Vitamin D</th>\n",
       "      <th>Vitamin E</th>\n",
       "      <th>Saturated Fat</th>\n",
       "      <th>Omega 3s</th>\n",
       "      <th>Cholesterol</th>\n",
       "      <th>Tryptophan</th>\n",
       "      <th>Omega 6s</th>\n",
       "    </tr>\n",
       "  </thead>\n",
       "  <tbody>\n",
       "    <tr>\n",
       "      <th>0</th>\n",
       "      <td>294.285714</td>\n",
       "      <td>10.8</td>\n",
       "      <td>6.7</td>\n",
       "      <td>28.0</td>\n",
       "      <td>4.4</td>\n",
       "      <td>34.4</td>\n",
       "      <td>383</td>\n",
       "      <td>NaN</td>\n",
       "      <td>0.0</td>\n",
       "      <td>13.97</td>\n",
       "      <td>...</td>\n",
       "      <td>0.0</td>\n",
       "      <td>3</td>\n",
       "      <td>21</td>\n",
       "      <td>0.0</td>\n",
       "      <td>2.85</td>\n",
       "      <td>2.20</td>\n",
       "      <td>0.000</td>\n",
       "      <td>0</td>\n",
       "      <td>155</td>\n",
       "      <td>1.39</td>\n",
       "    </tr>\n",
       "    <tr>\n",
       "      <th>1</th>\n",
       "      <td>304.761905</td>\n",
       "      <td>13.4</td>\n",
       "      <td>14.3</td>\n",
       "      <td>34.8</td>\n",
       "      <td>7.2</td>\n",
       "      <td>14.9</td>\n",
       "      <td>330</td>\n",
       "      <td>NaN</td>\n",
       "      <td>2.3</td>\n",
       "      <td>17.30</td>\n",
       "      <td>...</td>\n",
       "      <td>0.0</td>\n",
       "      <td>28</td>\n",
       "      <td>1</td>\n",
       "      <td>0.0</td>\n",
       "      <td>38.14</td>\n",
       "      <td>2.06</td>\n",
       "      <td>0.000</td>\n",
       "      <td>0</td>\n",
       "      <td>69</td>\n",
       "      <td>6.69</td>\n",
       "    </tr>\n",
       "    <tr>\n",
       "      <th>2</th>\n",
       "      <td>239.047619</td>\n",
       "      <td>4.0</td>\n",
       "      <td>1.2</td>\n",
       "      <td>53.1</td>\n",
       "      <td>2.2</td>\n",
       "      <td>27.5</td>\n",
       "      <td>1002</td>\n",
       "      <td>NaN</td>\n",
       "      <td>0.1</td>\n",
       "      <td>8.32</td>\n",
       "      <td>...</td>\n",
       "      <td>0.0</td>\n",
       "      <td>6</td>\n",
       "      <td>4</td>\n",
       "      <td>0.0</td>\n",
       "      <td>2.32</td>\n",
       "      <td>0.62</td>\n",
       "      <td>0.000</td>\n",
       "      <td>0</td>\n",
       "      <td>49</td>\n",
       "      <td>0.12</td>\n",
       "    </tr>\n",
       "    <tr>\n",
       "      <th>3</th>\n",
       "      <td>330.714286</td>\n",
       "      <td>6.0</td>\n",
       "      <td>13.0</td>\n",
       "      <td>33.9</td>\n",
       "      <td>2.4</td>\n",
       "      <td>31.6</td>\n",
       "      <td>632</td>\n",
       "      <td>NaN</td>\n",
       "      <td>50.7</td>\n",
       "      <td>11.83</td>\n",
       "      <td>...</td>\n",
       "      <td>0.0</td>\n",
       "      <td>25</td>\n",
       "      <td>0</td>\n",
       "      <td>0.0</td>\n",
       "      <td>8.82</td>\n",
       "      <td>5.49</td>\n",
       "      <td>266.581</td>\n",
       "      <td>0</td>\n",
       "      <td>30</td>\n",
       "      <td>4.76</td>\n",
       "    </tr>\n",
       "    <tr>\n",
       "      <th>4</th>\n",
       "      <td>320.000000</td>\n",
       "      <td>12.4</td>\n",
       "      <td>17.8</td>\n",
       "      <td>41.9</td>\n",
       "      <td>2.4</td>\n",
       "      <td>8.4</td>\n",
       "      <td>709</td>\n",
       "      <td>NaN</td>\n",
       "      <td>2.3</td>\n",
       "      <td>16.32</td>\n",
       "      <td>...</td>\n",
       "      <td>0.0</td>\n",
       "      <td>0</td>\n",
       "      <td>21</td>\n",
       "      <td>0.0</td>\n",
       "      <td>0.91</td>\n",
       "      <td>1.03</td>\n",
       "      <td>0.000</td>\n",
       "      <td>0</td>\n",
       "      <td>178</td>\n",
       "      <td>1.82</td>\n",
       "    </tr>\n",
       "  </tbody>\n",
       "</table>\n",
       "<p>5 rows × 33 columns</p>\n",
       "</div>"
      ],
      "text/plain": [
       "     Calories  Protein   Fat  Fiber  Sugar  Carbs  Calcium  Copper  Iodine  \\\n",
       "0  294.285714     10.8   6.7   28.0    4.4   34.4      383     NaN     0.0   \n",
       "1  304.761905     13.4  14.3   34.8    7.2   14.9      330     NaN     2.3   \n",
       "2  239.047619      4.0   1.2   53.1    2.2   27.5     1002     NaN     0.1   \n",
       "3  330.714286      6.0  13.0   33.9    2.4   31.6      632     NaN    50.7   \n",
       "4  320.000000     12.4  17.8   41.9    2.4    8.4      709     NaN     2.3   \n",
       "\n",
       "    Iron  ...  Vitamin B12  Vitamin B9  Vitamin C  Vitamin D  Vitamin E  \\\n",
       "0  13.97  ...          0.0           3         21        0.0       2.85   \n",
       "1  17.30  ...          0.0          28          1        0.0      38.14   \n",
       "2   8.32  ...          0.0           6          4        0.0       2.32   \n",
       "3  11.83  ...          0.0          25          0        0.0       8.82   \n",
       "4  16.32  ...          0.0           0         21        0.0       0.91   \n",
       "\n",
       "   Saturated Fat  Omega 3s  Cholesterol  Tryptophan  Omega 6s  \n",
       "0           2.20     0.000            0         155      1.39  \n",
       "1           2.06     0.000            0          69      6.69  \n",
       "2           0.62     0.000            0          49      0.12  \n",
       "3           5.49   266.581            0          30      4.76  \n",
       "4           1.03     0.000            0         178      1.82  \n",
       "\n",
       "[5 rows x 33 columns]"
      ]
     },
     "execution_count": 15,
     "metadata": {},
     "output_type": "execute_result"
    }
   ],
   "source": [
    "nutrient_values_only.head()"
   ]
  },
  {
   "cell_type": "code",
   "execution_count": 16,
   "metadata": {},
   "outputs": [],
   "source": [
    "# Extract Units From DV #\n",
    "\n",
    "unit_pattern = r'\\d+(\\w+)'\n",
    "number_pattern = r'(\\d+.?\\d+)'\n",
    "dv_clean['RDI units'] = dv_clean['RDI'].str.extract(unit_pattern)\n",
    "dv_clean['RDI'] = dv_clean['RDI'].str.extract(number_pattern)\n",
    "dv_clean['DV units'] = dv_clean['DV'].str.extract(unit_pattern)\n",
    "dv_clean['DV'] = dv_clean['DV'].str.extract(number_pattern)\n",
    "\n",
    "# Make numeric entries numeric type\n",
    "dv_clean['DV'] = pd.to_numeric(dv_clean['DV'])\n",
    "dv_clean['RDI'] = pd.to_numeric(dv_clean['RDI'])"
   ]
  },
  {
   "cell_type": "code",
   "execution_count": 17,
   "metadata": {},
   "outputs": [],
   "source": [
    "\"\"\"Let's combine the entries in RDI and DV to create a daily value with few NaNs, taking the highest value\n",
    "Note: isnan() is vectorized so I might be able to get rid of loop.\"\"\"\n",
    "\n",
    "dv_col = dv_clean['DV']\n",
    "rdi_col = dv_clean['RDI']\n",
    "dv_rdi_combined = []\n",
    "\n",
    "for dv, rdi in zip(dv_col,rdi_col):\n",
    "    if np.isnan(dv) and not np.isnan(rdi):\n",
    "        dv_rdi_combined.append(rdi)\n",
    "    \n",
    "    elif not np.isnan(dv) and np.isnan(rdi):\n",
    "        dv_rdi_combined.append(dv)\n",
    "    \n",
    "    elif np.isnan(dv) and np.isnan(rdi):\n",
    "        dv_rdi_combined.append(dv)\n",
    "        \n",
    "    elif not np.isnan(dv) and not np.isnan(rdi):\n",
    "        dv_rdi_combined.append(max(dv,rdi))\n",
    "\n",
    "dv_clean['DV and RDI, Highest'] = dv_rdi_combined"
   ]
  },
  {
   "cell_type": "markdown",
   "metadata": {},
   "source": [
    "### Impute Missing Vitamin B5 Value\n",
    "Sources: <br>\n",
    "Vitamin B5: https://health.clevelandclinic.org/vitamin-b5-pantothenic-acid <br>"
   ]
  },
  {
   "cell_type": "code",
   "execution_count": 18,
   "metadata": {},
   "outputs": [],
   "source": [
    "# Impute DV/RDI  #\n",
    "dv_clean.loc['Vitamin B5', 'DV and RDI, Highest'] = 5.0\n",
    "dv_clean.loc['Vitamin B5', 'DV units'] = 'mg'\n"
   ]
  },
  {
   "cell_type": "code",
   "execution_count": 19,
   "metadata": {},
   "outputs": [
    {
     "data": {
      "text/plain": [
       "Nutrient\n",
       "Calories         2000.0\n",
       "Fat                78.0\n",
       "Saturated Fat      20.0\n",
       "Cholesterol       300.0\n",
       "Carbs             275.0\n",
       "Fiber              38.0\n",
       "Sugar              50.0\n",
       "Protein            56.0\n",
       "Vitamin A        3000.0\n",
       "Vitamin B1          1.2\n",
       "Vitamin B2          1.3\n",
       "Vitamin B3         16.0\n",
       "Vitamin B5          5.0\n",
       "Vitamin B6          1.7\n",
       "Vitamin B9        400.0\n",
       "Vitamin B12         2.4\n",
       "Vitamin C          90.0\n",
       "Vitamin D          20.0\n",
       "Vitamin E          15.0\n",
       "Calcium          1300.0\n",
       "Copper              0.9\n",
       "Iodine            150.0\n",
       "Iron               18.0\n",
       "Magnesium         420.0\n",
       "Manganese           2.3\n",
       "Phosphorus       1250.0\n",
       "Potassium        4700.0\n",
       "Selenium           55.0\n",
       "Sodium           2300.0\n",
       "Zinc               11.0\n",
       "Omega 3s            1.6\n",
       "Omega 6s           17.0\n",
       "Tryptophan        280.0\n",
       "Name: DV and RDI, Highest, dtype: float64"
      ]
     },
     "execution_count": 19,
     "metadata": {},
     "output_type": "execute_result"
    }
   ],
   "source": [
    "dv_clean['DV and RDI, Highest']"
   ]
  },
  {
   "cell_type": "markdown",
   "metadata": {},
   "source": [
    "### Sanity Check"
   ]
  },
  {
   "cell_type": "code",
   "execution_count": 20,
   "metadata": {},
   "outputs": [],
   "source": [
    "a = {}\n",
    "for nut in nutrient_clean.columns:\n",
    "    if nut in a:\n",
    "        a[nut] +=1\n",
    "    else:\n",
    "        a[nut] = 1"
   ]
  },
  {
   "cell_type": "code",
   "execution_count": 21,
   "metadata": {},
   "outputs": [
    {
     "name": "stdout",
     "output_type": "stream",
     "text": [
      "No repeat columns\n"
     ]
    }
   ],
   "source": [
    "b = 0\n",
    "for keys, vals in a.items():\n",
    "    if vals > 1:\n",
    "        print('Repeat column')\n",
    "        b+=1\n",
    "if b == 0:\n",
    "    print('No repeat columns')"
   ]
  },
  {
   "cell_type": "code",
   "execution_count": 22,
   "metadata": {},
   "outputs": [
    {
     "data": {
      "text/plain": [
       "Calories           0\n",
       "Protein            0\n",
       "Fat                0\n",
       "Fiber              0\n",
       "Sugar              0\n",
       "Carbs              0\n",
       "Calcium            0\n",
       "Copper           361\n",
       "Iodine             0\n",
       "Iron               0\n",
       "Magnesium          0\n",
       "Manganese        392\n",
       "Phosphorus         0\n",
       "Potassium          0\n",
       "Selenium           0\n",
       "Sodium             0\n",
       "Zinc               0\n",
       "Vitamin A          0\n",
       "Vitamin B1         0\n",
       "Vitamin B2         0\n",
       "Vitamin B3         0\n",
       "Vitamin B5       574\n",
       "Vitamin B6         0\n",
       "Vitamin B12        0\n",
       "Vitamin B9         0\n",
       "Vitamin C          0\n",
       "Vitamin D          0\n",
       "Vitamin E          0\n",
       "Saturated Fat      0\n",
       "Omega 3s           0\n",
       "Cholesterol        0\n",
       "Tryptophan         0\n",
       "Omega 6s           0\n",
       "dtype: int64"
      ]
     },
     "execution_count": 22,
     "metadata": {},
     "output_type": "execute_result"
    }
   ],
   "source": [
    "nutrient_values_only.isnull().sum()"
   ]
  },
  {
   "cell_type": "markdown",
   "metadata": {},
   "source": [
    "## Find random solutions to the inequality"
   ]
  },
  {
   "cell_type": "code",
   "execution_count": 146,
   "metadata": {},
   "outputs": [],
   "source": [
    "# Fill in NaNs with 0s and move on#\n",
    "nutrient_values_only = nutrient_values_only.fillna(0.0)"
   ]
  },
  {
   "cell_type": "code",
   "execution_count": 24,
   "metadata": {},
   "outputs": [],
   "source": [
    "# Set the inequalities #\n",
    "\"\"\"Note: For now we will ignore dietary cholesterol due to it mostly being seen as benign.\"\"\"\n",
    "\"\"\"Note: There are few upper limits, so they are set arbitrarily high unless otherwise specified.\"\"\" \n",
    "\n",
    "## Set mins ##\n",
    "v_min = dv_clean['DV and RDI, Highest'].copy() #most values are a minimum, start here\n",
    "v_min['Sugar'] = 0 #Sugar in DV is a max\n",
    "v_min['Saturated Fat'] = 0 #Sat Fat in DV is a max\n",
    "v_min['Calories'] = 1700 #Caution on the lower side\n",
    "v_min['Cholesterol'] = 0\n",
    "\n",
    "## Set carbs and fat inequality to be +/- 20% RDI/DV\n",
    "v_min['Carbs'] = dv_clean.loc['Carbs', 'DV and RDI, Highest']*.80\n",
    "v_min['Fat'] = dv_clean.loc['Carbs', 'DV and RDI, Highest']*.80\n",
    "\n",
    "## Set maxs ##\n",
    "v_max = dv_clean['DV and RDI, Highest'].copy()*100 #most values are a minimum, set max to be arbitrarily high\n",
    "v_max['Sugar'] = dv_clean.loc['Sugar', 'DV and RDI, Highest'] # Sugar in DV is a max\n",
    "v_max['Saturated Fat'] =  dv_clean.loc['Saturated Fat', 'DV and RDI, Highest']# Sat Fat in DV is a max\n",
    "v_max['Calories'] = 2100 # A little over is OK\n",
    "\n",
    "\n",
    "## Set carbs and fat inequality to be +/- 20% RDI/DV\n",
    "v_max['Carbs'] = dv_clean.loc['Carbs', 'DV and RDI, Highest']*1.20\n",
    "v_max['Fat'] = dv_clean.loc['Carbs', 'DV and RDI, Highest']*1.20\n"
   ]
  },
  {
   "cell_type": "code",
   "execution_count": 52,
   "metadata": {},
   "outputs": [],
   "source": [
    "# Generate random solutions #\n",
    "\"\"\"This approach is indefinite and takes forever. Also it will likely produce too many \"\"\"\n",
    "def generate_random_solutions(F, v_min, v_max, a_max, precision=2, num_samples=1):\n",
    "    \"\"\"Generates a random a vector until one satisfies v_min < Fa < v_max\"\"\"\n",
    "    num_vars = F.shape[1]  # Number of variables (components of vector a)\n",
    "    solutions = []\n",
    "    for _ in range(num_samples):\n",
    "        valid = False\n",
    "        attempt_count=0\n",
    "        while not valid:\n",
    "            # Generate a random vector a within the given bounds\n",
    "            a = np.array([round(np.random.uniform(0, a_max),precision) for i in range(num_vars)])\n",
    "     \n",
    "            # Check if random guess satisfies inequality\n",
    "            if np.all(np.dot(F, a) < v_max) and np.all(np.dot(F,a) > v_min):\n",
    "                valid = True\n",
    "                solutions.append(a)\n",
    "            elif attempt_count < 1e6:\n",
    "                attempt_count += 1\n",
    "            else:\n",
    "                print(f'No solution found after {attempt_count} attempts')\n",
    "                valid = True\n",
    "                \n",
    "    \n",
    "    return solutions"
   ]
  },
  {
   "cell_type": "code",
   "execution_count": 53,
   "metadata": {},
   "outputs": [
    {
     "ename": "KeyboardInterrupt",
     "evalue": "",
     "output_type": "error",
     "traceback": [
      "\u001b[1;31m---------------------------------------------------------------------------\u001b[0m",
      "\u001b[1;31mKeyboardInterrupt\u001b[0m                         Traceback (most recent call last)",
      "Cell \u001b[1;32mIn[53], line 2\u001b[0m\n\u001b[0;32m      1\u001b[0m \u001b[38;5;66;03m# Generate a random food and add back food names #\u001b[39;00m\n\u001b[1;32m----> 2\u001b[0m random_food_solution \u001b[38;5;241m=\u001b[39m generate_random_solutions(F\u001b[38;5;241m=\u001b[39mnutrient_values_only\u001b[38;5;241m.\u001b[39mtranspose(), v_min\u001b[38;5;241m=\u001b[39mv_min, v_max\u001b[38;5;241m=\u001b[39mv_max, a_max\u001b[38;5;241m=\u001b[39m\u001b[38;5;241m5000\u001b[39m)\n\u001b[0;32m      3\u001b[0m random_food_solution\n",
      "Cell \u001b[1;32mIn[52], line 15\u001b[0m, in \u001b[0;36mgenerate_random_solutions\u001b[1;34m(F, v_min, v_max, a_max, precision, num_samples)\u001b[0m\n\u001b[0;32m     12\u001b[0m a \u001b[38;5;241m=\u001b[39m np\u001b[38;5;241m.\u001b[39marray([\u001b[38;5;28mround\u001b[39m(np\u001b[38;5;241m.\u001b[39mrandom\u001b[38;5;241m.\u001b[39muniform(\u001b[38;5;241m0\u001b[39m, a_max),precision) \u001b[38;5;28;01mfor\u001b[39;00m i \u001b[38;5;129;01min\u001b[39;00m \u001b[38;5;28mrange\u001b[39m(num_vars)])\n\u001b[0;32m     14\u001b[0m \u001b[38;5;66;03m# Check if random guess satisfies inequality\u001b[39;00m\n\u001b[1;32m---> 15\u001b[0m \u001b[38;5;28;01mif\u001b[39;00m np\u001b[38;5;241m.\u001b[39mall(np\u001b[38;5;241m.\u001b[39mdot(F, a) \u001b[38;5;241m<\u001b[39m v_max) \u001b[38;5;129;01mand\u001b[39;00m np\u001b[38;5;241m.\u001b[39mall(np\u001b[38;5;241m.\u001b[39mdot(F,a) \u001b[38;5;241m>\u001b[39m v_min):\n\u001b[0;32m     16\u001b[0m     valid \u001b[38;5;241m=\u001b[39m \u001b[38;5;28;01mTrue\u001b[39;00m\n\u001b[0;32m     17\u001b[0m     solutions\u001b[38;5;241m.\u001b[39mappend(a)\n",
      "\u001b[1;31mKeyboardInterrupt\u001b[0m: "
     ]
    }
   ],
   "source": [
    "# Generate a random food and add back food names #\n",
    "random_food_solution = generate_random_solutions(F=nutrient_values_only.transpose(), v_min=v_min, v_max=v_max, a_max=5000)\n",
    "random_food_solution\n",
    "# random_food = pd.DataFrame({food_name:random_food_solutions})\n",
    "# random_food.head()"
   ]
  },
  {
   "cell_type": "markdown",
   "metadata": {},
   "source": [
    "## Using least squares to find optimal solution to the linear equation"
   ]
  },
  {
   "cell_type": "code",
   "execution_count": 159,
   "metadata": {},
   "outputs": [
    {
     "data": {
      "text/plain": [
       "[]"
      ]
     },
     "execution_count": 159,
     "metadata": {},
     "output_type": "execute_result"
    }
   ],
   "source": [
    "## Sanity check, lets find a solution using select part of ##\n",
    "v_target = dv_clean['DV and RDI, Highest'].copy()\n",
    "v_target_reduced = np.asarray(v_target.loc[['Calories', 'Fat', 'Carbs','Protein']])\n",
    "food_df_reduced = nutrient_values_only[['Calories', 'Fat', 'Carbs','Protein']]\n",
    "food_matrix_reduced = np.asarray(food_df_reduced.transpose())\n",
    "\n",
    "food, res = nnls(A=food_matrix_reduced, b=v_target_reduced)\n",
    "for f in food:\n",
    "    nonzero = []\n",
    "    if f > 0.01:\n",
    "        nonzero.append(f)\n",
    "nonzero\n"
   ]
  },
  {
   "cell_type": "code",
   "execution_count": 160,
   "metadata": {},
   "outputs": [
    {
     "data": {
      "text/plain": [
       "array([2000.,   78.,  275.,   56.])"
      ]
     },
     "execution_count": 160,
     "metadata": {},
     "output_type": "execute_result"
    }
   ],
   "source": [
    "v_target_reduced"
   ]
  },
  {
   "cell_type": "code",
   "execution_count": 163,
   "metadata": {},
   "outputs": [
    {
     "data": {
      "text/plain": [
       "array([-4769.52380952,  -217.9       ,  -233.9       ,  -174.        ])"
      ]
     },
     "execution_count": 163,
     "metadata": {},
     "output_type": "execute_result"
    }
   ],
   "source": [
    "a = np.asarray(food_df_reduced.loc[0:5]).transpose()\n",
    "ax = np.dot(a, [1,2,3,4,4,6])\n",
    "v_target_reduced - ax"
   ]
  },
  {
   "cell_type": "code",
   "execution_count": 143,
   "metadata": {},
   "outputs": [
    {
     "data": {
      "text/plain": [
       "Nutrient\n",
       "Calories    2000.0\n",
       "Fat           78.0\n",
       "Carbs        275.0\n",
       "Protein       56.0\n",
       "Name: DV and RDI, Highest, dtype: float64"
      ]
     },
     "execution_count": 143,
     "metadata": {},
     "output_type": "execute_result"
    }
   ],
   "source": []
  },
  {
   "cell_type": "code",
   "execution_count": 111,
   "metadata": {},
   "outputs": [],
   "source": [
    "from scipy.optimize import nnls\n",
    "import random\n",
    "def rand_lstsq_solution(F, v_target, num_samples,seed=False):\n",
    "    if seed == True:\n",
    "        random.seed(42)\n",
    "    sample = [i for i in range(F.shape[1])]\n",
    "    rand_ind = random.sample(sample, num_samples)\n",
    "    rand_names = food_name[rand_ind]\n",
    "    rand_solution, res = nnls(A=F[:,rand_ind], b=v_target)\n",
    "    \n",
    "    return [rand_names, rand_solution, res]\n",
    "\n",
    "\n",
    "    \n"
   ]
  },
  {
   "cell_type": "code",
   "execution_count": 134,
   "metadata": {},
   "outputs": [],
   "source": [
    "# Generate random foods and find closest solution\n",
    "\n",
    "v_target = dv_clean['DV and RDI, Highest'].copy()\n",
    "food_matrix = np.asarray(nutrient_values_only.transpose())\n",
    "\n",
    "food_amounts = rand_lstsq_solution(food_matrix, np.asarray(v_target), 1616)\n",
    "today_you_eat = pd.DataFrame({'Food': food_amounts[0], 'Amount (g)': food_amounts[1][0]})\n"
   ]
  },
  {
   "cell_type": "code",
   "execution_count": 135,
   "metadata": {},
   "outputs": [
    {
     "data": {
      "text/plain": [
       "6069.833766728892"
      ]
     },
     "execution_count": 135,
     "metadata": {},
     "output_type": "execute_result"
    }
   ],
   "source": [
    "food_amounts[2]"
   ]
  },
  {
   "cell_type": "code",
   "execution_count": 136,
   "metadata": {},
   "outputs": [
    {
     "data": {
      "text/html": [
       "<div>\n",
       "<style scoped>\n",
       "    .dataframe tbody tr th:only-of-type {\n",
       "        vertical-align: middle;\n",
       "    }\n",
       "\n",
       "    .dataframe tbody tr th {\n",
       "        vertical-align: top;\n",
       "    }\n",
       "\n",
       "    .dataframe thead th {\n",
       "        text-align: right;\n",
       "    }\n",
       "</style>\n",
       "<table border=\"1\" class=\"dataframe\">\n",
       "  <thead>\n",
       "    <tr style=\"text-align: right;\">\n",
       "      <th></th>\n",
       "      <th>Food</th>\n",
       "      <th>Amount (g)</th>\n",
       "    </tr>\n",
       "  </thead>\n",
       "  <tbody>\n",
       "    <tr>\n",
       "      <th>1165</th>\n",
       "      <td>Sausages &amp; vegetables, canned</td>\n",
       "      <td>0.0</td>\n",
       "    </tr>\n",
       "    <tr>\n",
       "      <th>616</th>\n",
       "      <td>Orange, peeled, raw</td>\n",
       "      <td>0.0</td>\n",
       "    </tr>\n",
       "    <tr>\n",
       "      <th>831</th>\n",
       "      <td>Veal, diced, lean, raw</td>\n",
       "      <td>0.0</td>\n",
       "    </tr>\n",
       "    <tr>\n",
       "      <th>1122</th>\n",
       "      <td>Kangaroo, steak, as purchased, raw</td>\n",
       "      <td>0.0</td>\n",
       "    </tr>\n",
       "    <tr>\n",
       "      <th>0</th>\n",
       "      <td>Cardamom seed, dried, ground</td>\n",
       "      <td>0.0</td>\n",
       "    </tr>\n",
       "    <tr>\n",
       "      <th>...</th>\n",
       "      <td>...</td>\n",
       "      <td>...</td>\n",
       "    </tr>\n",
       "    <tr>\n",
       "      <th>628</th>\n",
       "      <td>Pear, green skin, unpeeled, raw</td>\n",
       "      <td>0.0</td>\n",
       "    </tr>\n",
       "    <tr>\n",
       "      <th>1434</th>\n",
       "      <td>Capsicum, red, fresh, fried, no added fat</td>\n",
       "      <td>0.0</td>\n",
       "    </tr>\n",
       "    <tr>\n",
       "      <th>387</th>\n",
       "      <td>Paste, soybean</td>\n",
       "      <td>0.0</td>\n",
       "    </tr>\n",
       "    <tr>\n",
       "      <th>536</th>\n",
       "      <td>Fat, solid, vegetable oil based</td>\n",
       "      <td>0.0</td>\n",
       "    </tr>\n",
       "    <tr>\n",
       "      <th>531</th>\n",
       "      <td>Oil, rice bran</td>\n",
       "      <td>0.0</td>\n",
       "    </tr>\n",
       "  </tbody>\n",
       "</table>\n",
       "<p>1616 rows × 2 columns</p>\n",
       "</div>"
      ],
      "text/plain": [
       "                                           Food  Amount (g)\n",
       "1165              Sausages & vegetables, canned         0.0\n",
       "616                         Orange, peeled, raw         0.0\n",
       "831                      Veal, diced, lean, raw         0.0\n",
       "1122         Kangaroo, steak, as purchased, raw         0.0\n",
       "0                  Cardamom seed, dried, ground         0.0\n",
       "...                                         ...         ...\n",
       "628             Pear, green skin, unpeeled, raw         0.0\n",
       "1434  Capsicum, red, fresh, fried, no added fat         0.0\n",
       "387                              Paste, soybean         0.0\n",
       "536             Fat, solid, vegetable oil based         0.0\n",
       "531                              Oil, rice bran         0.0\n",
       "\n",
       "[1616 rows x 2 columns]"
      ]
     },
     "execution_count": 136,
     "metadata": {},
     "output_type": "execute_result"
    }
   ],
   "source": [
    "today_you_eat"
   ]
  },
  {
   "cell_type": "code",
   "execution_count": 38,
   "metadata": {},
   "outputs": [],
   "source": [
    "# ## Solve ##\n",
    "from scipy.linalg import lstsq\n",
    "rdi_limit = np.asarray(dv_clean['RDI'])\n",
    "food_matrix = np.asarray(nutrient_values_only.transpose())\n",
    "\n",
    "food_solution = lstsq(a=food_matrix, b=rdi_limit)\n",
    "food_solution"
   ]
  },
  {
   "cell_type": "markdown",
   "metadata": {},
   "source": [
    "## Using linear programming to generate a set of feasible solutions"
   ]
  },
  {
   "cell_type": "markdown",
   "metadata": {},
   "source": [
    "The tables above leave us with a linear equation of the form:\n",
    "$$a_{1}f_{1} + ... + a_{m}f_{m} = v_{T}$$ \n",
    "where, $$a_{k} \\in \\mathbb{R}, f_{k} \\in V$$ \n",
    "and, $$k \\in {0,...,m}$$\n",
    "\n",
    "Here the daily value required is represented by the vector $v_T$, with entries in the vector being daily value nutrient limits.\n",
    "\n",
    "The list of vectors, $f$, represent the nutrient profile of a given food, with its $k^{th}$ element being the $k^{th}$ nutrient in $v_T$.\n",
    "\n",
    "The scalars, $a$, are the amounts, or portion size, of the foods in $f$ that satisfy the equation above. This equation can be written in its matrix form:\n",
    "\n",
    "$$Fa = v_T$$\n",
    "\n",
    "By solving the equation for the amounts $a$, we can get a list of foods that satisfy our days nutrition needs. Thus, satisfying the goal of this project.\n",
    "\n",
    "However, with foods this will rarely result in an exact solution. Instead, we want to find a set of solutions that satisfy the inequality,\n",
    "\n",
    "\\begin{array}{r@{\\quad}r@{\\quad}>{\\dotfill}l}\n",
    "a_{1}f_{1,1} + \\ldots + a_{m}f_{m,1} & > & v_{T, 1} \\\\\n",
    "\\ &  \\vdots \\\\\n",
    "a_{1}f_{1,n} + \\ldots + a_{m}f_{m,n} & > & v_{T, n}\n",
    "\\end{array}\n",
    "\n",
    "To do this, we can use a method called \"Linear Programming.\" We will create a feasible region using these inequalities and explore it. Furthermore, we can explore this region to optimize for different nutrients, like minimizing calories or maximizing protein."
   ]
  },
  {
   "cell_type": "markdown",
   "metadata": {},
   "source": [
    "# Delete cell below and finish data cleaning"
   ]
  },
  {
   "cell_type": "code",
   "execution_count": 38,
   "metadata": {},
   "outputs": [
    {
     "name": "stdout",
     "output_type": "stream",
     "text": [
      "1616\n"
     ]
    }
   ],
   "source": [
    "# Limit food amounts such that you can't have less than 10g\n",
    "\"\"\"Binning the amounts such that if  0<a<0.1 else a=a is a non-trivial task. Will try to implement this later.\"\"\"\n",
    "a_lim = [0.1 for _ in nutrient_values_only.index]\n",
    "print(len(a_lim))"
   ]
  },
  {
   "cell_type": "code",
   "execution_count": 39,
   "metadata": {},
   "outputs": [],
   "source": [
    "def matrix_mult(M,x):\n",
    "    return np.dot(M,x)"
   ]
  },
  {
   "cell_type": "code",
   "execution_count": null,
   "metadata": {},
   "outputs": [],
   "source": []
  },
  {
   "cell_type": "code",
   "execution_count": 40,
   "metadata": {},
   "outputs": [],
   "source": [
    "# v_min"
   ]
  },
  {
   "cell_type": "code",
   "execution_count": null,
   "metadata": {},
   "outputs": [],
   "source": []
  },
  {
   "cell_type": "code",
   "execution_count": 41,
   "metadata": {},
   "outputs": [],
   "source": [
    "# b_ub"
   ]
  },
  {
   "cell_type": "code",
   "execution_count": 42,
   "metadata": {},
   "outputs": [],
   "source": [
    "# M.shape"
   ]
  },
  {
   "cell_type": "code",
   "execution_count": 43,
   "metadata": {},
   "outputs": [
    {
     "name": "stdout",
     "output_type": "stream",
     "text": [
      "No feasible solution found.\n"
     ]
    }
   ],
   "source": [
    "## Try optimize for calories ##\n",
    "\n",
    "from scipy.optimize import linprog\n",
    "nutrient_values_only_no_cal = nutrient_values_only.drop(columns='Calories')\n",
    "v_min_no_cal = v_min.drop(index='Calories')\n",
    "v_max_no_cal = v_max.drop(index='Calories')\n",
    "\n",
    "# Define the matrix M \n",
    "M = np.asarray(nutrient_values_only_no_cal).transpose()\n",
    "\n",
    "# Define the vectors v_min and v_max\n",
    "v_min = np.asarray(v_min_no_cal)\n",
    "v_max = np.asarray(v_max_no_cal)\n",
    "\n",
    "# Number of variables (length of vector a)\n",
    "n = M.shape[1]\n",
    "\n",
    "# Define the dummy objective function coefficients (all zeros)\n",
    "c = np.asarray(nutrient_values_only['Calories']).transpose()\n",
    "\n",
    "# Define the inequality constraint matrix and bounds\n",
    "A_ub = np.vstack([M, -M])\n",
    "b_ub = np.hstack([v_max, -v_min])\n",
    "\n",
    "# Solve the linear programming problem to find any feasible solution\n",
    "res = linprog(c, A_ub=A_ub, b_ub=b_ub, method='highs')\n",
    "\n",
    "# Check if a feasible solution was found and output the result\n",
    "if res.success:\n",
    "    print('Feasible solution found:', res.x)\n",
    "else:\n",
    "    print('No feasible solution found.')"
   ]
  },
  {
   "cell_type": "code",
   "execution_count": 44,
   "metadata": {},
   "outputs": [
    {
     "ename": "ValueError",
     "evalue": "Invalid input for linprog: b_ub must be a 1-D array; b_ub must not have more than one non-singleton dimension and the number of rows in A_ub must equal the number of values in b_ub",
     "output_type": "error",
     "traceback": [
      "\u001b[1;31m---------------------------------------------------------------------------\u001b[0m",
      "\u001b[1;31mValueError\u001b[0m                                Traceback (most recent call last)",
      "Cell \u001b[1;32mIn[44], line 21\u001b[0m\n\u001b[0;32m     18\u001b[0m b_ub \u001b[38;5;241m=\u001b[39m np\u001b[38;5;241m.\u001b[39mhstack([v_max, \u001b[38;5;241m-\u001b[39mv_min])\n\u001b[0;32m     20\u001b[0m \u001b[38;5;66;03m# Solve the linear programming problem to find any feasible solution\u001b[39;00m\n\u001b[1;32m---> 21\u001b[0m res \u001b[38;5;241m=\u001b[39m linprog(c, A_ub\u001b[38;5;241m=\u001b[39mA_ub, b_ub\u001b[38;5;241m=\u001b[39mb_ub, method\u001b[38;5;241m=\u001b[39m\u001b[38;5;124m'\u001b[39m\u001b[38;5;124mhighs\u001b[39m\u001b[38;5;124m'\u001b[39m)\n\u001b[0;32m     23\u001b[0m \u001b[38;5;66;03m# Check if a feasible solution was found and output the result\u001b[39;00m\n\u001b[0;32m     24\u001b[0m \u001b[38;5;28;01mif\u001b[39;00m res\u001b[38;5;241m.\u001b[39msuccess:\n",
      "File \u001b[1;32m~\\anaconda3\\Lib\\site-packages\\scipy\\optimize\\_linprog.py:628\u001b[0m, in \u001b[0;36mlinprog\u001b[1;34m(c, A_ub, b_ub, A_eq, b_eq, bounds, method, callback, options, x0, integrality)\u001b[0m\n\u001b[0;32m    625\u001b[0m     integrality \u001b[38;5;241m=\u001b[39m np\u001b[38;5;241m.\u001b[39mbroadcast_to(integrality, np\u001b[38;5;241m.\u001b[39mshape(c))\n\u001b[0;32m    627\u001b[0m lp \u001b[38;5;241m=\u001b[39m _LPProblem(c, A_ub, b_ub, A_eq, b_eq, bounds, x0, integrality)\n\u001b[1;32m--> 628\u001b[0m lp, solver_options \u001b[38;5;241m=\u001b[39m _parse_linprog(lp, options, meth)\n\u001b[0;32m    629\u001b[0m tol \u001b[38;5;241m=\u001b[39m solver_options\u001b[38;5;241m.\u001b[39mget(\u001b[38;5;124m'\u001b[39m\u001b[38;5;124mtol\u001b[39m\u001b[38;5;124m'\u001b[39m, \u001b[38;5;241m1e-9\u001b[39m)\n\u001b[0;32m    631\u001b[0m \u001b[38;5;66;03m# Give unmodified problem to HiGHS\u001b[39;00m\n",
      "File \u001b[1;32m~\\anaconda3\\Lib\\site-packages\\scipy\\optimize\\_linprog_util.py:1026\u001b[0m, in \u001b[0;36m_parse_linprog\u001b[1;34m(lp, options, meth)\u001b[0m\n\u001b[0;32m   1023\u001b[0m solver_options, A_ub, A_eq \u001b[38;5;241m=\u001b[39m _check_sparse_inputs(solver_options, meth,\n\u001b[0;32m   1024\u001b[0m                                                   lp\u001b[38;5;241m.\u001b[39mA_ub, lp\u001b[38;5;241m.\u001b[39mA_eq)\n\u001b[0;32m   1025\u001b[0m \u001b[38;5;66;03m# Convert lists to numpy arrays, etc...\u001b[39;00m\n\u001b[1;32m-> 1026\u001b[0m lp \u001b[38;5;241m=\u001b[39m _clean_inputs(lp\u001b[38;5;241m.\u001b[39m_replace(A_ub\u001b[38;5;241m=\u001b[39mA_ub, A_eq\u001b[38;5;241m=\u001b[39mA_eq))\n\u001b[0;32m   1027\u001b[0m \u001b[38;5;28;01mreturn\u001b[39;00m lp, solver_options\n",
      "File \u001b[1;32m~\\anaconda3\\Lib\\site-packages\\scipy\\optimize\\_linprog_util.py:339\u001b[0m, in \u001b[0;36m_clean_inputs\u001b[1;34m(lp)\u001b[0m\n\u001b[0;32m    337\u001b[0m \u001b[38;5;28;01melse\u001b[39;00m:\n\u001b[0;32m    338\u001b[0m     \u001b[38;5;28;01mif\u001b[39;00m b_ub\u001b[38;5;241m.\u001b[39mshape \u001b[38;5;241m!=\u001b[39m (n_ub,):\n\u001b[1;32m--> 339\u001b[0m         \u001b[38;5;28;01mraise\u001b[39;00m \u001b[38;5;167;01mValueError\u001b[39;00m(\n\u001b[0;32m    340\u001b[0m             \u001b[38;5;124m\"\u001b[39m\u001b[38;5;124mInvalid input for linprog: b_ub must be a 1-D array; b_ub \u001b[39m\u001b[38;5;124m\"\u001b[39m\n\u001b[0;32m    341\u001b[0m             \u001b[38;5;124m\"\u001b[39m\u001b[38;5;124mmust not have more than one non-singleton dimension and \u001b[39m\u001b[38;5;124m\"\u001b[39m\n\u001b[0;32m    342\u001b[0m             \u001b[38;5;124m\"\u001b[39m\u001b[38;5;124mthe number of rows in A_ub must equal the number of values \u001b[39m\u001b[38;5;124m\"\u001b[39m\n\u001b[0;32m    343\u001b[0m             \u001b[38;5;124m\"\u001b[39m\u001b[38;5;124min b_ub\u001b[39m\u001b[38;5;124m\"\u001b[39m)\n\u001b[0;32m    344\u001b[0m     \u001b[38;5;28;01mif\u001b[39;00m \u001b[38;5;129;01mnot\u001b[39;00m np\u001b[38;5;241m.\u001b[39misfinite(b_ub)\u001b[38;5;241m.\u001b[39mall():\n\u001b[0;32m    345\u001b[0m         \u001b[38;5;28;01mraise\u001b[39;00m \u001b[38;5;167;01mValueError\u001b[39;00m(\n\u001b[0;32m    346\u001b[0m             \u001b[38;5;124m\"\u001b[39m\u001b[38;5;124mInvalid input for linprog: b_ub must not contain values \u001b[39m\u001b[38;5;124m\"\u001b[39m\n\u001b[0;32m    347\u001b[0m             \u001b[38;5;124m\"\u001b[39m\u001b[38;5;124minf, nan, or None\u001b[39m\u001b[38;5;124m\"\u001b[39m)\n",
      "\u001b[1;31mValueError\u001b[0m: Invalid input for linprog: b_ub must be a 1-D array; b_ub must not have more than one non-singleton dimension and the number of rows in A_ub must equal the number of values in b_ub"
     ]
    }
   ],
   "source": [
    "from scipy.optimize import linprog\n",
    "\n",
    "# Define the matrix M \n",
    "M = np.asarray(nutrient_values_only).transpose()\n",
    "\n",
    "# Define the vectors v_min and v_max\n",
    "v_min = np.asarray(v_min)\n",
    "v_max = np.asarray(v_max)\n",
    "\n",
    "# Number of variables (length of vector a)\n",
    "n = M.shape[1]\n",
    "\n",
    "# Define the dummy objective function coefficients (all zeros)\n",
    "c = np.zeros(n)\n",
    "\n",
    "# Define the inequality constraint matrix and bounds\n",
    "A_ub = np.vstack([M, -M])\n",
    "b_ub = np.hstack([v_max, -v_min])\n",
    "\n",
    "# Solve the linear programming problem to find any feasible solution\n",
    "res = linprog(c, A_ub=A_ub, b_ub=b_ub, method='highs')\n",
    "\n",
    "# Check if a feasible solution was found and output the result\n",
    "if res.success:\n",
    "    print('Feasible solution found:', res.x)\n",
    "else:\n",
    "    print('No feasible solution found.')"
   ]
  },
  {
   "cell_type": "code",
   "execution_count": null,
   "metadata": {},
   "outputs": [],
   "source": [
    "c.shape"
   ]
  },
  {
   "cell_type": "code",
   "execution_count": null,
   "metadata": {},
   "outputs": [],
   "source": [
    "b_ub.shape"
   ]
  },
  {
   "cell_type": "code",
   "execution_count": null,
   "metadata": {},
   "outputs": [],
   "source": [
    "A_ub.shape"
   ]
  },
  {
   "cell_type": "code",
   "execution_count": null,
   "metadata": {},
   "outputs": [],
   "source": [
    "from scipy.optimize import linprog\n",
    "\n",
    "# Define the coefficients of the dummy objective function (all zeros)\n",
    "c = np.zeros(2)\n",
    "\n",
    "# Define the inequality constraint matrix\n",
    "A_ub = np.array([[1, 2],\n",
    "                 [3, 1]])\n",
    "\n",
    "# Define the upper bounds of the inequality constraints\n",
    "b_ub = np.array([20, 30])\n",
    "\n",
    "# Define the bounds for each variable\n",
    "x0_bounds = (0, None)  # x1 >= 0\n",
    "x1_bounds = (0, None)  # x2 >= 0\n",
    "\n",
    "def generate_feasible_solutions(A_ub, b_ub, bounds, num_samples=10):\n",
    "    feasible_solutions = []\n",
    "    for _ in range(num_samples):\n",
    "        # Perturb the bounds slightly to explore different feasible regions\n",
    "        perturbation = np.random.uniform(-1, 1, size=b_ub.shape)\n",
    "        b_ub_perturbed = b_ub + perturbation\n",
    "\n",
    "        # Solve the LP problem\n",
    "        res = linprog(c, A_ub=A_ub, b_ub=b_ub_perturbed, bounds=bounds, method='highs')\n",
    "\n",
    "        if res.success:\n",
    "            feasible_solutions.append(res.x)\n",
    "    \n",
    "    return feasible_solutions\n",
    "\n",
    "# Generate a set of feasible solutions\n",
    "feasible_solutions = generate_feasible_solutions(A_ub, b_ub, [x0_bounds, x1_bounds], num_samples=10)\n",
    "\n",
    "print(\"Feasible solutions:\")\n",
    "for i, solution in enumerate(feasible_solutions, 1):\n",
    "    print(f\"Solution {i}: {solution}\")"
   ]
  },
  {
   "cell_type": "code",
   "execution_count": null,
   "metadata": {},
   "outputs": [],
   "source": []
  }
 ],
 "metadata": {
  "kernelspec": {
   "display_name": "Python 3 (ipykernel)",
   "language": "python",
   "name": "python3"
  },
  "language_info": {
   "codemirror_mode": {
    "name": "ipython",
    "version": 3
   },
   "file_extension": ".py",
   "mimetype": "text/x-python",
   "name": "python",
   "nbconvert_exporter": "python",
   "pygments_lexer": "ipython3",
   "version": "3.11.7"
  }
 },
 "nbformat": 4,
 "nbformat_minor": 4
}
