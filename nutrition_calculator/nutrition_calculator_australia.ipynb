{
 "cells": [
  {
   "cell_type": "markdown",
   "metadata": {},
   "source": [
    "# Nutrition Calculator  - Australian Food Composition Database"
   ]
  },
  {
   "cell_type": "markdown",
   "metadata": {},
   "source": [
    "mission statement"
   ]
  },
  {
   "cell_type": "markdown",
   "metadata": {},
   "source": [
    "#### Data sources\n",
    "nutrition data: https://www.foodstandards.gov.au/science-data/monitoringnutrients/afcd \n",
    "<br> recommended intake data: https://www.myfooddata.com/articles/recommended-daily-intakes.php"
   ]
  },
  {
   "cell_type": "markdown",
   "metadata": {},
   "source": [
    "To Do:\n",
    "- Make units kiss\n",
    "    - Check certain foods\n",
    "- Add omega 6s properly\n",
    "- Add nutrients back in with improved data imputation\n",
    "    -Amino acids\n",
    "    - Sugars\n",
    "- Use classifier trained on recipe file to make appropraite food portions\n",
    "- Do dot product of foods with DV\n",
    "    - Adjust weights on nutrients\n",
    "- How to interpret nutrient intakes\n",
    "    - Daily? +/- certain amount given that you make it up in a day?\n",
    "- Optimize lin prog w.r.t.\n",
    "    - Protein\n",
    "    - Fiber\n",
    "    - Calories\n",
    "- Make macro goals variable for function"
   ]
  },
  {
   "cell_type": "code",
   "execution_count": 1,
   "metadata": {},
   "outputs": [],
   "source": [
    "import pandas as pd\n",
    "import numpy as np\n",
    "import matplotlib.pyplot as plt\n",
    "import seaborn as sns\n",
    "import os\n",
    "sns.set()\n",
    "%matplotlib inline"
   ]
  },
  {
   "cell_type": "code",
   "execution_count": 2,
   "metadata": {},
   "outputs": [
    {
     "name": "stdout",
     "output_type": "stream",
     "text": [
      "Index(['Lysine'], dtype='object')\n"
     ]
    }
   ],
   "source": [
    "# Regex debugger #\n",
    "pattern = r'\\s?\\n\\(.+\\)'\n",
    "df = pd.DataFrame({'Lysine \\n(mg)':[1,2]})\n",
    "new_cols = df.columns.str.replace(pattern, '', regex=True)\n",
    "print(new_cols)"
   ]
  },
  {
   "cell_type": "code",
   "execution_count": 3,
   "metadata": {},
   "outputs": [
    {
     "data": {
      "text/html": [
       "<div>\n",
       "<style scoped>\n",
       "    .dataframe tbody tr th:only-of-type {\n",
       "        vertical-align: middle;\n",
       "    }\n",
       "\n",
       "    .dataframe tbody tr th {\n",
       "        vertical-align: top;\n",
       "    }\n",
       "\n",
       "    .dataframe thead th {\n",
       "        text-align: right;\n",
       "    }\n",
       "</style>\n",
       "<table border=\"1\" class=\"dataframe\">\n",
       "  <thead>\n",
       "    <tr style=\"text-align: right;\">\n",
       "      <th></th>\n",
       "      <th>RDI</th>\n",
       "      <th>DV</th>\n",
       "      <th>UL</th>\n",
       "    </tr>\n",
       "    <tr>\n",
       "      <th>Nutrient</th>\n",
       "      <th></th>\n",
       "      <th></th>\n",
       "      <th></th>\n",
       "    </tr>\n",
       "  </thead>\n",
       "  <tbody>\n",
       "    <tr>\n",
       "      <th>Calories</th>\n",
       "      <td>2000</td>\n",
       "      <td>2000</td>\n",
       "      <td>NaN</td>\n",
       "    </tr>\n",
       "    <tr>\n",
       "      <th>Fat</th>\n",
       "      <td>NaN</td>\n",
       "      <td>78g</td>\n",
       "      <td>NaN</td>\n",
       "    </tr>\n",
       "    <tr>\n",
       "      <th>Saturated Fat</th>\n",
       "      <td>NaN</td>\n",
       "      <td>20g</td>\n",
       "      <td>NaN</td>\n",
       "    </tr>\n",
       "    <tr>\n",
       "      <th>Cholesterol</th>\n",
       "      <td>NaN</td>\n",
       "      <td>300mg</td>\n",
       "      <td>NaN</td>\n",
       "    </tr>\n",
       "    <tr>\n",
       "      <th>Carbs</th>\n",
       "      <td>130g</td>\n",
       "      <td>275g</td>\n",
       "      <td>NaN</td>\n",
       "    </tr>\n",
       "  </tbody>\n",
       "</table>\n",
       "</div>"
      ],
      "text/plain": [
       "                RDI     DV   UL\n",
       "Nutrient                       \n",
       "Calories       2000   2000  NaN\n",
       "Fat             NaN    78g  NaN\n",
       "Saturated Fat   NaN    20g  NaN\n",
       "Cholesterol     NaN  300mg  NaN\n",
       "Carbs          130g   275g  NaN"
      ]
     },
     "execution_count": 3,
     "metadata": {},
     "output_type": "execute_result"
    }
   ],
   "source": [
    "# Import food and nutrition data #\n",
    "\n",
    "food = pd.read_excel('Australian_Food_Composition_Database/Food Details.xlsx') \n",
    "nutrient = pd.read_excel('Australian_Food_Composition_Database/Nutrient file.xlsx',\n",
    "                         sheet_name='All solids & liquids per 100g')\n",
    "\n",
    "## Need to drop percent fatty acid content, not necessary for calculation and data cleaning causes repition ##\n",
    "nutrient = nutrient.drop(columns = ['Total polyunsaturated fatty acids, equated (%T)', \n",
    "                          'Total long chain omega 3 fatty acids, equated \\n(%T)'])\n",
    "## Import Daily Value (DV) ##\n",
    "\n",
    "dv = pd.read_csv('daily value.csv', index_col=0)\n",
    "dv.head()"
   ]
  },
  {
   "cell_type": "code",
   "execution_count": 4,
   "metadata": {},
   "outputs": [
    {
     "name": "stdout",
     "output_type": "stream",
     "text": [
      "Number of columns in df before drop: 291\n",
      "Number of columns with % in header: 69\n",
      "Number of columns after dropping %: 222\n",
      "Number of columns with /gN in header: 18\n",
      "Number of columns after dropping /gN: 204\n"
     ]
    }
   ],
   "source": [
    "## Need to drop percent content columns. Not relevant to goal and causing duplicate columns later on ##\n",
    "print(\"Number of columns in df before drop:\", len(nutrient.columns))\n",
    "\n",
    "percent_pattern = r'\\(%\\w+\\)'\n",
    "percent_cols = nutrient.columns.str.contains(percent_pattern)\n",
    "print(\"Number of columns with % in header:\", percent_cols.sum())\n",
    "nutrient = nutrient.drop(columns = nutrient.columns[percent_cols])\n",
    "print(\"Number of columns after dropping %:\", len(nutrient.columns))\n",
    "\n",
    "gN_pattern = r'\\/gN'\n",
    "gN_cols = nutrient.columns.str.contains(gN_pattern)\n",
    "print(\"Number of columns with /gN in header:\", gN_cols.sum())\n",
    "nutrient = nutrient.drop(columns = nutrient.columns[gN_cols])\n",
    "print(\"Number of columns after dropping /gN:\", len(nutrient.columns))"
   ]
  },
  {
   "cell_type": "code",
   "execution_count": 5,
   "metadata": {
    "scrolled": true
   },
   "outputs": [
    {
     "data": {
      "text/html": [
       "<div>\n",
       "<style scoped>\n",
       "    .dataframe tbody tr th:only-of-type {\n",
       "        vertical-align: middle;\n",
       "    }\n",
       "\n",
       "    .dataframe tbody tr th {\n",
       "        vertical-align: top;\n",
       "    }\n",
       "\n",
       "    .dataframe thead th {\n",
       "        text-align: right;\n",
       "    }\n",
       "</style>\n",
       "<table border=\"1\" class=\"dataframe\">\n",
       "  <thead>\n",
       "    <tr style=\"text-align: right;\">\n",
       "      <th></th>\n",
       "      <th>Public Food Key</th>\n",
       "      <th>Classification</th>\n",
       "      <th>Food Name</th>\n",
       "      <th>Energy with dietary fibre, equated \\n(kJ)</th>\n",
       "      <th>Energy, without dietary fibre, equated \\n(kJ)</th>\n",
       "      <th>Moisture (water) \\n(g)</th>\n",
       "      <th>Protein \\n(g)</th>\n",
       "      <th>Nitrogen \\n(g)</th>\n",
       "      <th>Fat, total \\n(g)</th>\n",
       "      <th>Ash \\n(g)</th>\n",
       "      <th>...</th>\n",
       "      <th>Leucine \\n(mg)</th>\n",
       "      <th>Lysine \\n(mg)</th>\n",
       "      <th>Methionine \\n(mg)</th>\n",
       "      <th>Phenylalanine \\n(mg)</th>\n",
       "      <th>Proline \\n(mg)</th>\n",
       "      <th>Serine \\n(mg)</th>\n",
       "      <th>Threonine \\n(mg)</th>\n",
       "      <th>Tyrosine \\n(mg)</th>\n",
       "      <th>Tryptophan \\n(mg)</th>\n",
       "      <th>Valine \\n(mg)</th>\n",
       "    </tr>\n",
       "  </thead>\n",
       "  <tbody>\n",
       "    <tr>\n",
       "      <th>0</th>\n",
       "      <td>F002258</td>\n",
       "      <td>31302.0</td>\n",
       "      <td>Cardamom seed, dried, ground</td>\n",
       "      <td>1236</td>\n",
       "      <td>1012</td>\n",
       "      <td>8.3</td>\n",
       "      <td>10.8</td>\n",
       "      <td>1.72</td>\n",
       "      <td>6.7</td>\n",
       "      <td>5.8</td>\n",
       "      <td>...</td>\n",
       "      <td>NaN</td>\n",
       "      <td>NaN</td>\n",
       "      <td>NaN</td>\n",
       "      <td>NaN</td>\n",
       "      <td>NaN</td>\n",
       "      <td>NaN</td>\n",
       "      <td>NaN</td>\n",
       "      <td>NaN</td>\n",
       "      <td>155</td>\n",
       "      <td>NaN</td>\n",
       "    </tr>\n",
       "    <tr>\n",
       "      <th>1</th>\n",
       "      <td>F002893</td>\n",
       "      <td>31302.0</td>\n",
       "      <td>Chilli (chili), dried, ground</td>\n",
       "      <td>1280</td>\n",
       "      <td>1002</td>\n",
       "      <td>10.8</td>\n",
       "      <td>13.4</td>\n",
       "      <td>2.14</td>\n",
       "      <td>14.3</td>\n",
       "      <td>11.8</td>\n",
       "      <td>...</td>\n",
       "      <td>NaN</td>\n",
       "      <td>NaN</td>\n",
       "      <td>NaN</td>\n",
       "      <td>NaN</td>\n",
       "      <td>NaN</td>\n",
       "      <td>NaN</td>\n",
       "      <td>NaN</td>\n",
       "      <td>NaN</td>\n",
       "      <td>69</td>\n",
       "      <td>NaN</td>\n",
       "    </tr>\n",
       "    <tr>\n",
       "      <th>2</th>\n",
       "      <td>F002963</td>\n",
       "      <td>31302.0</td>\n",
       "      <td>Cinnamon, dried, ground</td>\n",
       "      <td>1004</td>\n",
       "      <td>579</td>\n",
       "      <td>10.6</td>\n",
       "      <td>4.0</td>\n",
       "      <td>0.64</td>\n",
       "      <td>1.2</td>\n",
       "      <td>3.6</td>\n",
       "      <td>...</td>\n",
       "      <td>NaN</td>\n",
       "      <td>NaN</td>\n",
       "      <td>NaN</td>\n",
       "      <td>NaN</td>\n",
       "      <td>NaN</td>\n",
       "      <td>NaN</td>\n",
       "      <td>NaN</td>\n",
       "      <td>NaN</td>\n",
       "      <td>49</td>\n",
       "      <td>NaN</td>\n",
       "    </tr>\n",
       "    <tr>\n",
       "      <th>3</th>\n",
       "      <td>F002970</td>\n",
       "      <td>31302.0</td>\n",
       "      <td>Cloves, dried, ground</td>\n",
       "      <td>1389</td>\n",
       "      <td>1118</td>\n",
       "      <td>9.9</td>\n",
       "      <td>6.0</td>\n",
       "      <td>0.96</td>\n",
       "      <td>13.0</td>\n",
       "      <td>5.6</td>\n",
       "      <td>...</td>\n",
       "      <td>NaN</td>\n",
       "      <td>NaN</td>\n",
       "      <td>NaN</td>\n",
       "      <td>NaN</td>\n",
       "      <td>NaN</td>\n",
       "      <td>NaN</td>\n",
       "      <td>NaN</td>\n",
       "      <td>NaN</td>\n",
       "      <td>30</td>\n",
       "      <td>NaN</td>\n",
       "    </tr>\n",
       "    <tr>\n",
       "      <th>4</th>\n",
       "      <td>F003190</td>\n",
       "      <td>31302.0</td>\n",
       "      <td>Coriander seed, dried, ground</td>\n",
       "      <td>1344</td>\n",
       "      <td>1009</td>\n",
       "      <td>8.9</td>\n",
       "      <td>12.4</td>\n",
       "      <td>1.98</td>\n",
       "      <td>17.8</td>\n",
       "      <td>6.0</td>\n",
       "      <td>...</td>\n",
       "      <td>NaN</td>\n",
       "      <td>NaN</td>\n",
       "      <td>NaN</td>\n",
       "      <td>NaN</td>\n",
       "      <td>NaN</td>\n",
       "      <td>NaN</td>\n",
       "      <td>NaN</td>\n",
       "      <td>NaN</td>\n",
       "      <td>178</td>\n",
       "      <td>NaN</td>\n",
       "    </tr>\n",
       "  </tbody>\n",
       "</table>\n",
       "<p>5 rows × 204 columns</p>\n",
       "</div>"
      ],
      "text/plain": [
       "  Public Food Key  Classification                      Food Name  \\\n",
       "0         F002258         31302.0   Cardamom seed, dried, ground   \n",
       "1         F002893         31302.0  Chilli (chili), dried, ground   \n",
       "2         F002963         31302.0        Cinnamon, dried, ground   \n",
       "3         F002970         31302.0          Cloves, dried, ground   \n",
       "4         F003190         31302.0  Coriander seed, dried, ground   \n",
       "\n",
       "   Energy with dietary fibre, equated \\n(kJ)  \\\n",
       "0                                       1236   \n",
       "1                                       1280   \n",
       "2                                       1004   \n",
       "3                                       1389   \n",
       "4                                       1344   \n",
       "\n",
       "   Energy, without dietary fibre, equated \\n(kJ)  Moisture (water) \\n(g)  \\\n",
       "0                                           1012                     8.3   \n",
       "1                                           1002                    10.8   \n",
       "2                                            579                    10.6   \n",
       "3                                           1118                     9.9   \n",
       "4                                           1009                     8.9   \n",
       "\n",
       "   Protein \\n(g)  Nitrogen \\n(g)  Fat, total \\n(g)  Ash \\n(g)  ...  \\\n",
       "0           10.8            1.72               6.7        5.8  ...   \n",
       "1           13.4            2.14              14.3       11.8  ...   \n",
       "2            4.0            0.64               1.2        3.6  ...   \n",
       "3            6.0            0.96              13.0        5.6  ...   \n",
       "4           12.4            1.98              17.8        6.0  ...   \n",
       "\n",
       "   Leucine \\n(mg)  Lysine \\n(mg)  Methionine \\n(mg)  Phenylalanine \\n(mg)  \\\n",
       "0             NaN            NaN                NaN                   NaN   \n",
       "1             NaN            NaN                NaN                   NaN   \n",
       "2             NaN            NaN                NaN                   NaN   \n",
       "3             NaN            NaN                NaN                   NaN   \n",
       "4             NaN            NaN                NaN                   NaN   \n",
       "\n",
       "   Proline \\n(mg)  Serine \\n(mg)  Threonine \\n(mg)  Tyrosine \\n(mg)  \\\n",
       "0             NaN            NaN               NaN              NaN   \n",
       "1             NaN            NaN               NaN              NaN   \n",
       "2             NaN            NaN               NaN              NaN   \n",
       "3             NaN            NaN               NaN              NaN   \n",
       "4             NaN            NaN               NaN              NaN   \n",
       "\n",
       "   Tryptophan \\n(mg)  Valine \\n(mg)  \n",
       "0                155            NaN  \n",
       "1                 69            NaN  \n",
       "2                 49            NaN  \n",
       "3                 30            NaN  \n",
       "4                178            NaN  \n",
       "\n",
       "[5 rows x 204 columns]"
      ]
     },
     "execution_count": 5,
     "metadata": {},
     "output_type": "execute_result"
    }
   ],
   "source": [
    "nutrient.head()"
   ]
  },
  {
   "cell_type": "markdown",
   "metadata": {},
   "source": [
    "## Data Cleaning"
   ]
  },
  {
   "cell_type": "code",
   "execution_count": 6,
   "metadata": {
    "scrolled": true
   },
   "outputs": [],
   "source": [
    "# Get rid of \\n's from headers #\n",
    "col_pattern = r'\\s?\\n\\(.+\\)'\n",
    "nutr_cols = nutrient.columns.str.replace(col_pattern, '', regex=True)\n",
    "new_cols = dict(zip(nutrient.columns, nutr_cols))\n",
    "nutrient_clean = nutrient.rename(columns=new_cols)\n",
    "\n",
    "# Change energy to calories #\n",
    "\n",
    "# fiber=True #toggle this to change how calories from fiber are calculated\n",
    "\n",
    "# if fiber==True:\n",
    "#     energy_cols = {'Energy with dietary fibre, equated': 'Calories'}\n",
    "#     nutrient_clean = nutrient_clean.rename(columns=energy_cols)\n",
    "#     nutrient_clean = nutrient_clean.drop(columns='Energy, without dietary fibre, equated')\n",
    "\n",
    "# else:\n",
    "#     energy_cols = {'Energy, without dietary fibre, equated': 'Calories'}\n",
    "#     nutrient_clean = nutrient_clean.rename(columns=energy_cols)\n",
    "#     nutrient_clean = nutrient_clean.drop(columns='Energy with dietary fibre, equated')\n",
    "\n",
    "# ## Convert kJ to kCal ## \n",
    "# nutrient_clean['Calories'] = nutrient_clean['Calories'].apply(lambda x: x/4.2)  #multiply kJ by this to get kcal"
   ]
  },
  {
   "cell_type": "code",
   "execution_count": 7,
   "metadata": {},
   "outputs": [],
   "source": [
    "# Extract Units From Cols#\n",
    "\n",
    "### Attempt 1 - Deleting###\n",
    "\"\"\"The main plan is to delete units in table header. Because every unit in both datasets are metric, an inconsistency \n",
    "in units would manifest as a 3 orders of magnitude off which will be investigated in further analysis.\"\"\"\n",
    "\n",
    "# Get rid of (abbrev.)#\n",
    "col_pattern = r' \\(.+\\)'\n",
    "nutr_cols = nutrient_clean.columns.str.replace(col_pattern, '',regex=True)\n",
    "new_cols = dict(zip(nutrient_clean.columns, nutr_cols))\n",
    "nutrient_clean = nutrient_clean.rename(columns=new_cols)\n"
   ]
  },
  {
   "cell_type": "code",
   "execution_count": 8,
   "metadata": {},
   "outputs": [
    {
     "data": {
      "text/plain": [
       "array(['Public Food Key', 'Classification', 'Food Name',\n",
       "       'Energy with dietary fibre, equated',\n",
       "       'Energy, without dietary fibre, equated', 'Moisture', 'Protein',\n",
       "       'Nitrogen', 'Fat, total', 'Ash', 'Total dietary fibre', 'Alcohol',\n",
       "       'Fructose', 'Glucose', 'Sucrose', 'Maltose', 'Lactose',\n",
       "       'Galactose', 'Maltotrios', 'Total sugars', 'Added sugars',\n",
       "       'Free sugars', 'Starch', 'Dextrin', 'Glycerol', 'Glycogen',\n",
       "       'Inulin', 'Erythritol', 'Maltitol', 'Mannitol', 'Xylitol',\n",
       "       'Maltodextrin', 'Oligosaccharides ', 'Polydextrose', 'Raffinose',\n",
       "       'Stachyose', 'Sorbitol', 'Resistant starch',\n",
       "       'Available carbohydrate, without sugar alcohols',\n",
       "       'Available carbohydrate, with sugar alcohols', 'Acetic acid',\n",
       "       'Citric acid', 'Fumaric acid', 'Lactic acid', 'Malic acid\\n',\n",
       "       'Oxalic acid', 'Propionic acid', 'Quinic acid', 'Shikimic acid',\n",
       "       'Succinic acid', 'Tartaric acid', 'Aluminium', 'Antimony',\n",
       "       'Arsenic', 'Cadmium', 'Calcium', 'Chromium', 'Chloride', 'Cobalt',\n",
       "       'Copper', 'Fluoride', 'Iodine', 'Iron', 'Lead', 'Magnesium',\n",
       "       'Manganese', 'Mercury', 'Molybdenum', 'Nickel', 'Phosphorus',\n",
       "       'Potassium', 'Selenium', 'Sodium', 'Sulphur', 'Tin', 'Zinc',\n",
       "       'Retinol', 'Alpha-carotene', 'Beta-carotene', 'Cryptoxanthin',\n",
       "       'Beta-carotene equivalents', 'Vitamin A retinol equivalents',\n",
       "       'Lutein', 'Lycopene', 'Xanthophyl', 'Thiamin', 'Riboflavin',\n",
       "       'Niacin', 'Niacin derived from tryptophan',\n",
       "       'Niacin derived equivalents', 'Pantothenic acid', 'Pyridoxine',\n",
       "       'Biotin', 'Cobalamin', 'Folate, natural', 'Folic acid',\n",
       "       'Total folates', 'Dietary folate equivalents', 'Vitamin C',\n",
       "       'Cholecalciferol', 'Ergocalciferol', '25-hydroxy cholecalciferol',\n",
       "       '25-hydroxy ergocalciferol', 'Vitamin D3 equivalents',\n",
       "       'Alpha tocopherol', 'Alpha tocotrienol', 'Beta tocopherol',\n",
       "       'Beta tocotrienol', 'Delta tocopherol', 'Delta tocotrienol',\n",
       "       'Gamma tocopherol', 'Gamma tocotrienol', 'Vitamin E', 'C4', 'C6',\n",
       "       'C8', 'C10', 'C11', 'C12', 'C13', 'C14', 'C15', 'C16', 'C17',\n",
       "       'C18', 'C19', 'C20', 'C21', 'C22', 'C23', 'C24',\n",
       "       'Total saturated fatty acids, equated', 'C10:1', 'C12:1', 'C14:1',\n",
       "       'C15:1', 'C16:1', 'C17:1', 'C18:1', 'C18:1w5', 'C18:1w6',\n",
       "       'C18:1w7', 'C18:1w9', 'C20:1', 'C20:1w9', 'C20:1w13', 'C20:1w11',\n",
       "       'C22:1', 'C22:1w9', 'C22:1w11', 'C24:1', 'C24:1w9', 'C24:1w11',\n",
       "       'C24:1w13', 'Total monounsaturated fatty acids, equated', 'C12:2',\n",
       "       'C16:2w4', 'C16:3', 'C18:2w6', 'C18:3w3', 'C18:3w4', 'C18:3w6',\n",
       "       'C18:4w1', 'C18:4w3', 'C20:2', 'C20:2w6', 'C20:3', 'C20:3w3',\n",
       "       'C20:3w6', 'C20:4', 'C20:4w3', 'C20:4w6', 'C20:5w3', 'C21:5w3',\n",
       "       'C22:5w3', 'C22:4w6', 'C22:2', 'C22:2w6', 'C22:5w6', 'C22:6w3',\n",
       "       'Total polyunsaturated fatty acids, equated',\n",
       "       'Total long chain omega 3 fatty acids, equated',\n",
       "       'Total undifferentiated fatty acids, mass basis basis',\n",
       "       'Total trans fatty acids, imputed', 'Caffeine', 'Cholesterol',\n",
       "       'Alanine', 'Arginine', 'Aspartic acid', 'Cystine plus cysteine',\n",
       "       'Glutamic acid', 'Glycine', 'Histidine', 'Isoleucine', 'Leucine',\n",
       "       'Lysine', 'Methionine', 'Phenylalanine', 'Proline', 'Serine',\n",
       "       'Threonine', 'Tyrosine', 'Tryptophan', 'Valine'], dtype=object)"
      ]
     },
     "execution_count": 8,
     "metadata": {},
     "output_type": "execute_result"
    }
   ],
   "source": [
    "np.asarray(nutrient_clean.columns)"
   ]
  },
  {
   "cell_type": "code",
   "execution_count": 9,
   "metadata": {},
   "outputs": [],
   "source": [
    "# Need to change column names to be equivalent between food and DV #\n",
    "\n",
    "## Vitamins ##\n",
    "vitamins = {'Thiamin': 'Vitamin B1',\n",
    "'Riboflavin': 'Vitamin B2',\n",
    "'Niacin derived equivalents': 'Vitamin B3', \n",
    "'Pantothenic acid':'Vitamin B5',\n",
    "'Pyridoxine':'Vitamin B6',\n",
    "'Biotin': 'Vitamin B7',\n",
    "'Total folates': 'Vitamin B9',\n",
    "'Cobalamin': 'Vitamin B12',\n",
    "'Vitamin A retinol equivalents':'Vitamin A',\n",
    "'Vitamin D3 equivalents': 'Vitamin D'\n",
    "           }\n",
    "nutrient_clean = nutrient_clean.rename(columns=vitamins)\n",
    "\n",
    "## Fat ##\n",
    "nutrient_clean = nutrient_clean.rename(columns = {'Fat, total': 'Fat', \n",
    "                                                    'Total saturated fatty acids, equated': 'Saturated Fat',\n",
    "                                                   'Total long chain omega 3 fatty acids, equated': 'Omega 3s'\n",
    "                                                   })\n",
    "\n",
    "### Adding omega 6s from manual Calc ###\n",
    "### Assuming any polyunsaturated fat that isn't omega-3 is an omega-6\n",
    "nutrient_clean['Omega 6s'] = round(nutrient_clean['Total polyunsaturated fatty acids, equated'] - nutrient_clean['Omega 3s']*0.001,2)\n",
    "\n",
    "## Carbohydrates ##\n",
    "carbs = {'Total sugars':'Sugar',\n",
    "          'Total dietary fibre':'Fiber',\n",
    "        'Available carbohydrate, with sugar alcohols':'Carbs'}\n",
    "nutrient_clean = nutrient_clean.rename(columns=carbs)\n",
    "\n",
    "## Misc Nutrients ##\n",
    "\n",
    "misc_nutr = {'Cystine plus cysteine':'Cystine',\n",
    "            }\n",
    "nutrient_clean = nutrient_clean.rename(columns=misc_nutr)\n"
   ]
  },
  {
   "cell_type": "markdown",
   "metadata": {},
   "source": [
    "### Investigating NaN's"
   ]
  },
  {
   "cell_type": "code",
   "execution_count": 10,
   "metadata": {},
   "outputs": [
    {
     "name": "stdout",
     "output_type": "stream",
     "text": [
      "Number of foods with null leucine values: 1435 \n",
      "Number of foods with non-null: 181\n"
     ]
    }
   ],
   "source": [
    "# Look at nutrient NaNs and determine whether or not they represent 0's\n",
    "\n",
    "## Using leucine as an example \n",
    "leucine = nutrient_clean['Leucine']\n",
    "print('Number of foods with null leucine values:', leucine.isnull().sum(),\n",
    "      '\\nNumber of foods with non-null:', leucine.notnull().sum())\n",
    "\n",
    "notnull_leucine = nutrient_clean[leucine.notnull()]\n",
    "null_leucine = nutrient_clean[leucine.isnull()]\n",
    "\n",
    "\"\"\"The vast majority of foods are missing amino acid data. It would require combining an entire dataset which would\n",
    "involve matching food names accurately, which is outside of the scope of this project. Either food with missing data \n",
    "must be excluded, or we must exclude these nutrients from the fitting criteria. In order to preserve the most data\n",
    "possible, I an doing to drop the nutrients instead of the foods. For similar reasons as listed below, amino acids\n",
    "are subcategories of protein, which is included in the data set. I do believe the fitting of these nutrients, like\n",
    "many others being excluded, to be important and should be subject of an expansion to this study.\"\"\"\n",
    "\n",
    "# Make NaNs in food data 0 #\n",
    "# nutrient_values_only = nutrient_values_only.fillna(0)\n",
    "\n",
    "\n",
    "## Find columns with mostly NaN's and drop\n",
    "\n",
    "mostly_empty = []\n",
    "\n",
    "for cols in nutrient_clean:\n",
    "    if nutrient_clean[cols].isnull().sum() > nutrient_clean[cols].notnull().sum():\n",
    "        mostly_empty.append(cols)\n",
    "        \n",
    "nutrient_clean = nutrient_clean.drop(columns=mostly_empty)"
   ]
  },
  {
   "cell_type": "code",
   "execution_count": 11,
   "metadata": {},
   "outputs": [],
   "source": [
    "def shared_columns(df1, df2):\n",
    "    \n",
    "    \"\"\"Finds which columns in df1 are and are not shared with df2\"\"\"\n",
    "    \n",
    "    df1_cols = df1.columns\n",
    "    df2_cols = df2.columns\n",
    "    \n",
    "    shared_cols = []\n",
    "    diff_cols = []\n",
    "    \n",
    "    for cols in df1_cols:\n",
    "        if cols in df2_cols:\n",
    "            shared_cols.append(cols)\n",
    "        else:\n",
    "            diff_cols.append(cols)\n",
    "    \n",
    "    return shared_cols, diff_cols"
   ]
  },
  {
   "cell_type": "code",
   "execution_count": 12,
   "metadata": {},
   "outputs": [
    {
     "name": "stdout",
     "output_type": "stream",
     "text": [
      "Dropping columns: ['Calories', 'Vitamin K', 'Choline', 'Lycopene', 'Lutein', 'Water', 'Galactose', 'Histidine', 'Threonine', 'Isoleucine', 'Lysine', 'Leucine', 'Methionine', 'Cystine', 'Phenylalanine', 'Tyrosine', 'Valine', 'Arginine', 'Alanine', 'Aspartic Acid', 'Glutamic Acid', 'Glycine', 'Proline', 'Serine', 'Hydroxyproline']\n",
      "Shared columns: 39 \n",
      "Different columns: 0\n"
     ]
    }
   ],
   "source": [
    "## Find DV columns that aren't equal to nutrient cols ##\n",
    "\n",
    "dv_clean = dv.rename(index={'Lutein+zeazanthin': 'Lutein'})\n",
    "nutr_cols = nutrient_clean.columns\n",
    "dv_shared = shared_columns(dv_clean.transpose(), nutrient_clean)\n",
    "\n",
    "\n",
    "\"\"\"This data does not exist in the food list df, therefore we will ignore these nutrients. Water is a \n",
    "nutrient that should be satisfied outside of food consumption. Therefore, it should be excluded\n",
    "from the analysis. Furthermore, the remaining incongruent sets are non-essential amino acids which can\n",
    "be produced in the human body, making it less important for consumption. Vitamin K and Choline\n",
    "are essential in the human diet. However, the food data set does not have this included. This data could \n",
    "be imputed in the event of expanding the model for a more robust study.\"\"\"\n",
    "\n",
    "dv_clean = dv_clean.drop(index=dv_shared[1])\n",
    "print(\"Dropping columns:\", dv_shared[1])\n",
    "dv_shared_dropped = shared_columns(dv_clean.transpose(), nutrient_clean)\n",
    "\n",
    "print(\"Shared columns:\", len(dv_shared_dropped[0]),\"\\nDifferent columns:\", len(dv_shared_dropped[1]))\n",
    "\n"
   ]
  },
  {
   "cell_type": "code",
   "execution_count": 13,
   "metadata": {},
   "outputs": [
    {
     "name": "stdout",
     "output_type": "stream",
     "text": [
      "Shared columns: 39 \n",
      "Different columns: 49\n",
      "Dropping excess nutrient columns ['Public Food Key', 'Classification', 'Food Name', 'Energy with dietary fibre, equated', 'Energy, without dietary fibre, equated', 'Moisture', 'Nitrogen', 'Alcohol', 'Added sugars', 'Free sugars', 'Available carbohydrate, without sugar alcohols', 'Retinol', 'Alpha-carotene', 'Beta-carotene', 'Cryptoxanthin', 'Beta-carotene equivalents', 'Niacin', 'Niacin derived from tryptophan', 'Folate, natural', 'Folic acid', 'Dietary folate equivalents', 'Cholecalciferol', 'Ergocalciferol', '25-hydroxy cholecalciferol', '25-hydroxy ergocalciferol', 'Alpha tocopherol', 'C14', 'C15', 'C16', 'C17', 'C18', 'C22', 'C14:1', 'C16:1', 'C18:1', 'Total monounsaturated fatty acids, equated', 'C18:2w6', 'C18:3w3', 'C18:3w6', 'C20:2w6', 'C20:3w6', 'C20:4w6', 'C20:5w3', 'C22:5w3', 'C22:4w6', 'C22:6w3', 'Total polyunsaturated fatty acids, equated', 'Total trans fatty acids, imputed', 'Caffeine']\n",
      "Shared columns: 39 \n",
      "Different columns: 0\n"
     ]
    }
   ],
   "source": [
    "# Find nutrient columns that aren't in the DV columns #\n",
    "\n",
    "nutr_cols = nutrient_clean.columns\n",
    "nutr_shared = shared_columns(nutrient_clean, dv_clean.transpose())\n",
    "print(\"Shared columns:\", len(nutr_shared[0]),\"\\nDifferent columns:\", len(nutr_shared[1]))\n",
    "\n",
    "\"\"\"Much of the remaining dataset is anti-nutrients, subcategories of nutrients which are encapsulated by other\n",
    "nutrients, and nutrients which have no recommended value. Currently, anti-nutrients are not in the scope of this\n",
    "study but could be a valuable addition later. Therefore, I will drop all excess columns except the food name\n",
    "column.\"\"\"\n",
    "\n",
    "food_name = nutrient_clean['Food Name']\n",
    "print(\"Dropping excess nutrient columns\", nutr_shared[1])\n",
    "\n",
    "nutrient_values_only = nutrient_clean.drop(columns=nutr_shared[1])\n",
    "nutr_shared = shared_columns(dv_clean.transpose(), nutrient_values_only)\n",
    "print(\"Shared columns:\", len(nutr_shared[0]),\"\\nDifferent columns:\", len(nutr_shared[1]))\n",
    "# print(nutr_shared[1])"
   ]
  },
  {
   "cell_type": "code",
   "execution_count": 14,
   "metadata": {},
   "outputs": [
    {
     "data": {
      "text/plain": [
       "array(['Public Food Key', 'Classification', 'Food Name',\n",
       "       'Energy with dietary fibre, equated',\n",
       "       'Energy, without dietary fibre, equated', 'Moisture', 'Protein',\n",
       "       'Nitrogen', 'Fat', 'Ash', 'Fiber', 'Alcohol', 'Fructose',\n",
       "       'Glucose', 'Sucrose', 'Maltose', 'Lactose', 'Sugar',\n",
       "       'Added sugars', 'Free sugars', 'Starch',\n",
       "       'Available carbohydrate, without sugar alcohols', 'Carbs',\n",
       "       'Calcium', 'Copper', 'Iodine', 'Iron', 'Magnesium', 'Manganese',\n",
       "       'Phosphorus', 'Potassium', 'Selenium', 'Sodium', 'Zinc', 'Retinol',\n",
       "       'Alpha-carotene', 'Beta-carotene', 'Cryptoxanthin',\n",
       "       'Beta-carotene equivalents', 'Vitamin A', 'Vitamin B1',\n",
       "       'Vitamin B2', 'Niacin', 'Niacin derived from tryptophan',\n",
       "       'Vitamin B3', 'Vitamin B5', 'Vitamin B6', 'Vitamin B12',\n",
       "       'Folate, natural', 'Folic acid', 'Vitamin B9',\n",
       "       'Dietary folate equivalents', 'Vitamin C', 'Cholecalciferol',\n",
       "       'Ergocalciferol', '25-hydroxy cholecalciferol',\n",
       "       '25-hydroxy ergocalciferol', 'Vitamin D', 'Alpha tocopherol',\n",
       "       'Vitamin E', 'C14', 'C15', 'C16', 'C17', 'C18', 'C22',\n",
       "       'Saturated Fat', 'C14:1', 'C16:1', 'C18:1',\n",
       "       'Total monounsaturated fatty acids, equated', 'C18:2w6', 'C18:3w3',\n",
       "       'C18:3w6', 'C20:2w6', 'C20:3w6', 'C20:4w6', 'C20:5w3', 'C22:5w3',\n",
       "       'C22:4w6', 'C22:6w3', 'Total polyunsaturated fatty acids, equated',\n",
       "       'Omega 3s', 'Total trans fatty acids, imputed', 'Caffeine',\n",
       "       'Cholesterol', 'Tryptophan', 'Omega 6s'], dtype=object)"
      ]
     },
     "execution_count": 14,
     "metadata": {},
     "output_type": "execute_result"
    }
   ],
   "source": [
    "np.asarray(nutrient_clean.columns)"
   ]
  },
  {
   "cell_type": "code",
   "execution_count": 15,
   "metadata": {},
   "outputs": [
    {
     "data": {
      "text/plain": [
       "Nutrient\n",
       "Fat                       NaN\n",
       "Saturated Fat             NaN\n",
       "Cholesterol               NaN\n",
       "Carbs                    130g\n",
       "Fiber                     38g\n",
       "Sugar                     NaN\n",
       "Protein                   56g\n",
       "Vitamin A        900mcg (RAE)\n",
       "Vitamin B1              1.2mg\n",
       "Vitamin B2              1.3mg\n",
       "Vitamin B3               16mg\n",
       "Vitamin B5                NaN\n",
       "Vitamin B6              1.3mg\n",
       "Vitamin B9             400mcg\n",
       "Vitamin B12            2.4mcg\n",
       "Vitamin C                90mg\n",
       "Vitamin D                 NaN\n",
       "Vitamin E                15mg\n",
       "Calcium                   NaN\n",
       "Copper                  0.9mg\n",
       "Iodine                 150mcg\n",
       "Iron                      8mg\n",
       "Magnesium               400mg\n",
       "Manganese                 NaN\n",
       "Phosphorus              700mg\n",
       "Potassium                 NaN\n",
       "Selenium                55mcg\n",
       "Sodium                 1500mg\n",
       "Zinc                     11mg\n",
       "Ash                       NaN\n",
       "Starch                    NaN\n",
       "Sucrose                   NaN\n",
       "Glucose                   NaN\n",
       "Fructose                  NaN\n",
       "Lactose                   NaN\n",
       "Maltose                   NaN\n",
       "Omega 3s                 1.6g\n",
       "Omega 6s                  17g\n",
       "Tryptophan              280mg\n",
       "Name: RDI, dtype: object"
      ]
     },
     "execution_count": 15,
     "metadata": {},
     "output_type": "execute_result"
    }
   ],
   "source": [
    "dv_clean['RDI']"
   ]
  },
  {
   "cell_type": "code",
   "execution_count": 16,
   "metadata": {},
   "outputs": [],
   "source": [
    "# Extract Units From DV #\n",
    "\n",
    "unit_pattern = r'\\d+(\\w+)'\n",
    "number_pattern = r'(\\d+.?\\d+)'\n",
    "dv_clean['RDI units'] = dv_clean['RDI'].str.extract(unit_pattern)\n",
    "dv_clean['RDI'] = dv_clean['RDI'].str.extract(number_pattern)\n",
    "dv_clean['DV units'] = dv_clean['DV'].str.extract(unit_pattern)\n",
    "dv_clean['DV'] = dv_clean['DV'].str.extract(number_pattern)\n",
    "\n",
    "# Make numeric entries numeric type\n",
    "dv_clean['DV'] = pd.to_numeric(dv_clean['DV'])\n",
    "dv_clean['RDI'] = pd.to_numeric(dv_clean['RDI'])"
   ]
  },
  {
   "cell_type": "code",
   "execution_count": 17,
   "metadata": {},
   "outputs": [
    {
     "data": {
      "text/plain": [
       "Nutrient\n",
       "Fat                 NaN\n",
       "Saturated Fat       NaN\n",
       "Cholesterol         NaN\n",
       "Carbs             130.0\n",
       "Fiber              38.0\n",
       "Sugar               NaN\n",
       "Protein            56.0\n",
       "Vitamin A         900.0\n",
       "Vitamin B1          1.2\n",
       "Vitamin B2          1.3\n",
       "Vitamin B3         16.0\n",
       "Vitamin B5          NaN\n",
       "Vitamin B6          1.3\n",
       "Vitamin B9        400.0\n",
       "Vitamin B12         2.4\n",
       "Vitamin C          90.0\n",
       "Vitamin D           NaN\n",
       "Vitamin E          15.0\n",
       "Calcium             NaN\n",
       "Copper              0.9\n",
       "Iodine            150.0\n",
       "Iron                NaN\n",
       "Magnesium         400.0\n",
       "Manganese           NaN\n",
       "Phosphorus        700.0\n",
       "Potassium           NaN\n",
       "Selenium           55.0\n",
       "Sodium           1500.0\n",
       "Zinc               11.0\n",
       "Ash                 NaN\n",
       "Starch              NaN\n",
       "Sucrose             NaN\n",
       "Glucose             NaN\n",
       "Fructose            NaN\n",
       "Lactose             NaN\n",
       "Maltose             NaN\n",
       "Omega 3s            1.6\n",
       "Omega 6s           17.0\n",
       "Tryptophan        280.0\n",
       "Name: RDI, dtype: float64"
      ]
     },
     "execution_count": 17,
     "metadata": {},
     "output_type": "execute_result"
    }
   ],
   "source": [
    "dv_clean['RDI']"
   ]
  },
  {
   "cell_type": "code",
   "execution_count": 18,
   "metadata": {},
   "outputs": [
    {
     "data": {
      "text/plain": [
       "12"
      ]
     },
     "execution_count": 18,
     "metadata": {},
     "output_type": "execute_result"
    }
   ],
   "source": [
    "dv_clean['DV'].isnull().sum()"
   ]
  },
  {
   "cell_type": "code",
   "execution_count": 19,
   "metadata": {},
   "outputs": [],
   "source": [
    "# df = pd.DataFrame({'DV': dv_clean['DV'], 'RDI':dv_clean['RDI']})\n",
    "# # df = df.transpose()\n",
    "# df"
   ]
  },
  {
   "cell_type": "code",
   "execution_count": 28,
   "metadata": {},
   "outputs": [],
   "source": [
    "\"\"\"Let's combine the entries in RDI and DV to create a daily value with few NaNs, taking the highest value\n",
    "Note: isnan() is vectorized so I might be able to get rid of loop.\"\"\"\n",
    "\n",
    "dv_col = dv_clean['DV']\n",
    "rdi_col = dv_clean['RDI']\n",
    "dv_rdi_combined = []\n",
    "\n",
    "for dv, rdi in zip(dv_col,rdi_col):\n",
    "    if np.isnan(dv) and not np.isnan(rdi):\n",
    "        dv_rdi_combined.append(rdi)\n",
    "    \n",
    "    elif not np.isnan(dv) and np.isnan(rdi):\n",
    "        dv_rdi_combined.append(dv)\n",
    "    \n",
    "    elif np.isnan(dv) and np.isnan(rdi):\n",
    "        dv_rdi_combined.append(dv)\n",
    "        \n",
    "    elif not np.isnan(dv) and not np.isnan(rdi):\n",
    "        dv_rdi_combined.append(max(dv,rdi))\n",
    "\n",
    "dv_clean['DV and RDI, Highest'] = dv_rdi_combined"
   ]
  },
  {
   "cell_type": "code",
   "execution_count": 29,
   "metadata": {},
   "outputs": [
    {
     "data": {
      "text/plain": [
       "Nutrient\n",
       "Fat                78.0\n",
       "Saturated Fat      20.0\n",
       "Cholesterol       300.0\n",
       "Carbs             275.0\n",
       "Fiber              38.0\n",
       "Sugar              50.0\n",
       "Protein            56.0\n",
       "Vitamin A        3000.0\n",
       "Vitamin B1          1.2\n",
       "Vitamin B2          1.3\n",
       "Vitamin B3         16.0\n",
       "Vitamin B5          NaN\n",
       "Vitamin B6          1.7\n",
       "Vitamin B9        400.0\n",
       "Vitamin B12         2.4\n",
       "Vitamin C          90.0\n",
       "Vitamin D          20.0\n",
       "Vitamin E          15.0\n",
       "Calcium          1300.0\n",
       "Copper              0.9\n",
       "Iodine            150.0\n",
       "Iron               18.0\n",
       "Magnesium         420.0\n",
       "Manganese           2.3\n",
       "Phosphorus       1250.0\n",
       "Potassium        4700.0\n",
       "Selenium           55.0\n",
       "Sodium           2300.0\n",
       "Zinc               11.0\n",
       "Ash                 NaN\n",
       "Starch              NaN\n",
       "Sucrose             NaN\n",
       "Glucose             NaN\n",
       "Fructose            NaN\n",
       "Lactose             NaN\n",
       "Maltose             NaN\n",
       "Omega 3s            1.6\n",
       "Omega 6s           17.0\n",
       "Tryptophan        280.0\n",
       "Name: DV and RDI, Highest, dtype: float64"
      ]
     },
     "execution_count": 29,
     "metadata": {},
     "output_type": "execute_result"
    }
   ],
   "source": [
    "dv_clean['DV and RDI, Highest']"
   ]
  },
  {
   "cell_type": "markdown",
   "metadata": {},
   "source": [
    "### Impute Missing Vitamin Values\n",
    "Sources: <br>\n",
    "Vitamin B5: https://health.clevelandclinic.org/vitamin-b5-pantothenic-acid <br>"
   ]
  },
  {
   "cell_type": "code",
   "execution_count": 37,
   "metadata": {},
   "outputs": [],
   "source": [
    "# Impute DV/RDI  #\n",
    "# dv_clean = dv_clean.drop(labels='Ash') ## Not a relevant nutrient\n",
    "dv_clean.loc['Vitamin B5', 'DV and RDI, Highest'] = 5.0\n",
    "dv_clean.loc['Vitamin B5', 'DV units'] = 'mg'\n"
   ]
  },
  {
   "cell_type": "code",
   "execution_count": 36,
   "metadata": {},
   "outputs": [
    {
     "data": {
      "text/plain": [
       "Nutrient\n",
       "Fat                78.0\n",
       "Saturated Fat      20.0\n",
       "Cholesterol       300.0\n",
       "Carbs             275.0\n",
       "Fiber              38.0\n",
       "Sugar              50.0\n",
       "Protein            56.0\n",
       "Vitamin A        3000.0\n",
       "Vitamin B1          1.2\n",
       "Vitamin B2          1.3\n",
       "Vitamin B3         16.0\n",
       "Vitamin B5          5.0\n",
       "Vitamin B6          1.7\n",
       "Vitamin B9        400.0\n",
       "Vitamin B12         2.4\n",
       "Vitamin C          90.0\n",
       "Vitamin D          20.0\n",
       "Vitamin E          15.0\n",
       "Calcium          1300.0\n",
       "Copper              0.9\n",
       "Iodine            150.0\n",
       "Iron               18.0\n",
       "Magnesium         420.0\n",
       "Manganese           2.3\n",
       "Phosphorus       1250.0\n",
       "Potassium        4700.0\n",
       "Selenium           55.0\n",
       "Sodium           2300.0\n",
       "Zinc               11.0\n",
       "Starch              NaN\n",
       "Sucrose             NaN\n",
       "Glucose             NaN\n",
       "Fructose            NaN\n",
       "Lactose             NaN\n",
       "Maltose             NaN\n",
       "Omega 3s            1.6\n",
       "Omega 6s           17.0\n",
       "Tryptophan        280.0\n",
       "Name: DV and RDI, Highest, dtype: float64"
      ]
     },
     "execution_count": 36,
     "metadata": {},
     "output_type": "execute_result"
    }
   ],
   "source": [
    "dv_clean['DV and RDI, Highest']"
   ]
  },
  {
   "cell_type": "markdown",
   "metadata": {},
   "source": [
    "### Sanity Check"
   ]
  },
  {
   "cell_type": "code",
   "execution_count": null,
   "metadata": {},
   "outputs": [],
   "source": [
    "a = {}\n",
    "for nut in nutrient_clean.columns:\n",
    "    if nut in a:\n",
    "        a[nut] +=1\n",
    "    else:\n",
    "        a[nut] = 1"
   ]
  },
  {
   "cell_type": "code",
   "execution_count": null,
   "metadata": {},
   "outputs": [],
   "source": [
    "b = 0\n",
    "for keys, vals in a.items():\n",
    "    if vals > 1:\n",
    "        print('Repeat column')\n",
    "        b+=1\n",
    "if b == 0:\n",
    "    print('No repeat columns')"
   ]
  },
  {
   "cell_type": "markdown",
   "metadata": {},
   "source": [
    "## Using least squares to find solutions to the linear equation"
   ]
  },
  {
   "cell_type": "markdown",
   "metadata": {},
   "source": [
    "The tables above leave us with a linear equation of the form:\n",
    "$$a_{1}f_{1} + ... + a_{m}f_{m} = v_{T}$$ \n",
    "where, $$a_{k} \\in \\mathbb{R}, f_{k} \\in V$$ \n",
    "and, $$k \\in {0,...,m}$$\n",
    "\n",
    "Here the daily value required is represented by the vector $v_T$, with entries in the vector being daily value nutrient limits.\n",
    "\n",
    "The list of vectors, $f$, represent the nutrient profile of a given food, with its $k^{th}$ element being the $k^{th}$ nutrient in $v_T$.\n",
    "\n",
    "The scalars, $a$, are the amounts, or portion size, of the foods in $f$ that satisfy the equation above. This equation can be written in its matrix form:\n",
    "\n",
    "$$Fa = v_T$$\n",
    "\n",
    "By solving the equation for the amounts $a$, we can get a list of foods that satisfy our days nutrition needs. Thus, satisfying the goal of this project.\n",
    "\n",
    "However, because this matrix is not square and therefore not invertible, we must use a least sqaures method of solving the equation:\n",
    "\n",
    "$$a = (F^{T}F)^{-1}F^{T}v_T$$\n",
    "\n",
    "To do this, we can use least squares method from scipy linalg package. "
   ]
  },
  {
   "cell_type": "code",
   "execution_count": null,
   "metadata": {},
   "outputs": [],
   "source": [
    "## Solve ##\n",
    "from scipy.linalg import lstsq\n",
    "rdi_limit = np.asarray(dv_clean['RDI'])\n",
    "food_matrix = np.asarray(nutrient_values_only.transpose())\n",
    "\n",
    "food_solution = lstsq(a=food_matrix, b=rdi_limit)\n",
    "food_solution"
   ]
  },
  {
   "cell_type": "code",
   "execution_count": null,
   "metadata": {},
   "outputs": [],
   "source": []
  }
 ],
 "metadata": {
  "kernelspec": {
   "display_name": "Python 3 (ipykernel)",
   "language": "python",
   "name": "python3"
  },
  "language_info": {
   "codemirror_mode": {
    "name": "ipython",
    "version": 3
   },
   "file_extension": ".py",
   "mimetype": "text/x-python",
   "name": "python",
   "nbconvert_exporter": "python",
   "pygments_lexer": "ipython3",
   "version": "3.11.7"
  }
 },
 "nbformat": 4,
 "nbformat_minor": 4
}
