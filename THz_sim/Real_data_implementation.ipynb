{
 "cells": [
  {
   "cell_type": "markdown",
   "metadata": {},
   "source": [
    "# Implementing Real Data"
   ]
  },
  {
   "cell_type": "code",
   "execution_count": 1,
   "metadata": {},
   "outputs": [],
   "source": [
    "import matplotlib.pyplot as plt\n",
    "import numpy as np\n",
    "import seaborn as sns\n",
    "import scipy.integrate as integrate\n",
    "import scipy.special as special\n",
    "from scipy.optimize import curve_fit\n",
    "import math\n",
    "import time\n",
    "import pandas as pd\n",
    "sns.set()\n",
    "%matplotlib inline"
   ]
  },
  {
   "cell_type": "code",
   "execution_count": 2,
   "metadata": {},
   "outputs": [],
   "source": [
    "## Generate current class ##\n",
    "\n",
    "class current():\n",
    "    \n",
    "    # initialize current types and variables # \n",
    "    \n",
    "    def __init__(self, height1=1, squeeze1=1, pos1=0, height2=1, squeeze2=1, pos2=0, shift=0, \n",
    "                 phi_t=8.01088e-19, phi_s=8.01088e-19, z = 0.5e-9, A=1e-9, \n",
    "                 erf=False, ohm=False, cubic=False, exp=False, double_erf=False, step=False, Simmons=False):\n",
    "        self.height1 = height1\n",
    "        self.squeeze1 = squeeze1\n",
    "        self.pos1 = pos1\n",
    "        self.height2 = height2\n",
    "        self.squeeze2 = squeeze2\n",
    "        self.pos2 = pos2\n",
    "        self.shift = shift\n",
    "        self.phi_t = phi_t\n",
    "        self.phi_s = phi_s\n",
    "        self.z = z\n",
    "        self.A = A\n",
    "        \n",
    "        \n",
    "        self.erf = erf\n",
    "        self.ohm = ohm\n",
    "        self.cubic = cubic\n",
    "        self.exp = exp\n",
    "        self.double_erf = double_erf\n",
    "        self.step = step\n",
    "        self.Simmons = Simmons\n",
    "        \n",
    "    # Call calculate to generate I[V(t)] #  \n",
    "        \n",
    "    def calculate(self, V):\n",
    "        if self.erf == True:\n",
    "            calculate = self.height1*special.erf((V-self.pos1)*self.squeeze1) + self.shift\n",
    "        if self.double_erf == True:\n",
    "            calculate = self.height1*special.erf((V-self.pos1)*self.squeeze1) + self.height2*special.erf((V - self.pos2)*self.squeeze2) + self.shift\n",
    "        if self.cubic == True:\n",
    "            calculate = self.height1*(V*self.squeeze1 - self.pos1)**3 + self.height2*(V*self.squeeze2 - self.pos2) + self.shift\n",
    "        if self.step == True:\n",
    "            calculate = self.height1 * (V > self.pos1)\n",
    "        if self.ohm == True:\n",
    "            calculate = (V - self.pos1)/self.height1 + self.shift\n",
    "        if self.exp == True:\n",
    "            calculate = self.height1*np.exp(-(V*self.squeeze1 - self.pos1)) + self.shift\n",
    "        if self.Simmons == True:\n",
    "\n",
    "            I = []\n",
    "            \n",
    "            for i in range(0,len(V)):\n",
    "                \n",
    "\n",
    "                if V[i]*1.60217662e-19 > -self.phi_t and V[i]*1.60217662e-19 < self.phi_s:\n",
    "                    phi_bar = (self.phi_t+self.phi_s-abs(V[i])*1.60217662e-19)/2\n",
    "                    delta = self.z\n",
    "                   \n",
    "\n",
    "                if V[i]*1.60217662e-19 >= self.phi_s:\n",
    "                    phi_bar = self.phi_t/2\n",
    "                    delta = self.z*self.phi_t/(self.phi_t-self.phi_s+abs(V[i])*1.60217662e-19)\n",
    "                    beta = 23/24\n",
    "                \n",
    "\n",
    "                if V[i]*1.60217662e-19 <= -self.phi_t:\n",
    "                    phi_bar = self.phi_s/2\n",
    "                    delta = self.z*self.phi_s/(self.phi_s-self.phi_t+abs(V[i])*1.60217662e-19)\n",
    "                    beta = 23/24\n",
    "                   \n",
    "\n",
    "                if V[i]*1.60217662e-19 >= 0 and V[i]*1.60217662e-19 < self.phi_s:\n",
    "                    beta = 1-1/24*((abs(V[i])*1.60217662e-19-self.phi_s+self.phi_t)/(abs(V[i])*1.60217662e-19-self.phi_s-self.phi_t))**2\n",
    "                \n",
    "                if V[i]*1.60217662e-19 > -self.phi_t and V[i]*1.60217662e-19 < 0:\n",
    "                    beta = 1-1/24*((abs(V[i])*1.60217662e-19+self.phi_s-self.phi_t)/(abs(V[i])*1.60217662e-19-self.phi_s-self.phi_t))**2\n",
    "                  \n",
    "\n",
    "                if V[i] >= 0:\n",
    "                    I.append(1.60217662e-19*self.A/(1.0545718e-34*(2*np.pi*beta*delta)**2)*(\n",
    "                        phi_bar*np.exp(-2*beta*delta*np.sqrt(9.10938356e-31*2*phi_bar)/1.0545718e-34)\n",
    "                        -(phi_bar+abs(V[i])*1.60217662e-19)*np.exp(-2*beta*delta*np.sqrt(9.10938356e-31*2)\n",
    "                                                           *np.sqrt(phi_bar+abs(V[i])*1.60217662e-19)/1.0545718e-34)))\n",
    "               \n",
    "             \n",
    "\n",
    "                if V[i] < 0: \n",
    "                    I.append(-1.60217662e-19*self.A/(1.0545718e-34*(2*np.pi*beta*delta)**2)*(\n",
    "                        phi_bar*np.exp(-2*beta*delta*np.sqrt(9.10938356e-31*2*phi_bar)/1.0545718e-34)\n",
    "                        -(phi_bar+abs(V[i])*1.60217662e-19)*np.exp(-2*beta*delta*np.sqrt(9.10938356e-31*2)\n",
    "                                                           *np.sqrt(phi_bar+abs(V[i])*1.60217662e-19)/1.0545718e-34)))\n",
    "                \n",
    "            \n",
    "            calculate = np.asarray(I)\n",
    "\n",
    "           \n",
    "    \n",
    "        else:\n",
    "            pass\n",
    "        \n",
    "        return calculate"
   ]
  },
  {
   "cell_type": "code",
   "execution_count": 3,
   "metadata": {},
   "outputs": [],
   "source": [
    "## Function that creates nth order polynomial for fit ##\n",
    "\n",
    "def arb_odd_poly(x, *params):\n",
    "    return sum([p*(x**(2*i+3)) for i, p in enumerate(params)])\n",
    "\n",
    "def arb_even_poly(x, *params):\n",
    "    return sum([p*(x**(2*i+2)) for i, p in enumerate(params)])"
   ]
  },
  {
   "cell_type": "code",
   "execution_count": 4,
   "metadata": {},
   "outputs": [],
   "source": [
    "def rectify(V, pos_E0, neg_E0, t, Q_pos, Q_neg, fit_terms):\n",
    "    \n",
    "    \"\"\"The rectify function takes in experimental values for the input waveform, amplitudes\n",
    "       (waveform maximums and minimums from positive and negative sweeps respectively), and the \n",
    "       results from the Q[V(phi=0)] and Q[V(phi=pi)] sweeps. It fits a polynomial of order 2 \n",
    "       and above to any data and reconstructs an I-V curve.\n",
    "       \n",
    "       ***PARAMETERS***\n",
    "       \n",
    "       V: Waveform.\n",
    "       pos_E0: Waveform maximums from sweep using V(phi=0).\n",
    "       neg_E0: Waveform minimums from sweep using V(phi=pi).\n",
    "       t: Waveform time domain.\n",
    "       Q_pos: Q[V(phi=0)] sweep data. Positive cosine wave as a function of waveform maximums.\n",
    "       Q_neg: Q[V(phi=pi)] sweep data. Negative cosine wave as a function of waveform maximums.\n",
    "       \n",
    "       \"\"\"\n",
    "    \n",
    "    a_n = []                \n",
    "    rec_current = [] \n",
    "    I_t = []\n",
    "\n",
    "    even_order = (Q_pos+Q_neg)/2\n",
    "    odd_order = (Q_pos-Q_neg)/2\n",
    "    \n",
    "    popt1, pcov1 = curve_fit(f = arb_even_poly, xdata=pos_E0 ,   # fit the even ordered data\n",
    "                       ydata = np.real(even_order), p0=[1]*(fit_terms)) # default initial guess to be 1\n",
    "\n",
    "\n",
    "    popt2, pcov2 = curve_fit(f = arb_odd_poly, xdata=pos_E0 ,   # fit the odd ordered data\n",
    "                       ydata = np.real(odd_order), p0=[1]*(fit_terms))  # default initial guess to be 1\n",
    "\n",
    "\n",
    "    for i in range(0,len(popt1)):\n",
    "        a_n.append(popt1[i]/integrate.simps(V**(2*i+2),x=t)) \n",
    "        a_n.append(popt2[i]/integrate.simps(V**(2*i+3),x=t))\n",
    "\n",
    "    a_n = np.asarray(a_n)    \n",
    "    E0 = np.concatenate((neg_E0,pos_E0), axis=0)\n",
    "    \n",
    "    for i in range(0,len(a_n)):\n",
    "        rec_current.append(a_n[i]*E0**(i+2))  # reconstruct current\n",
    "        I_t.append(a_n[i]*V**(i+2))\n",
    " \n",
    "    rec_I = np.sum(rec_current, axis = 0)\n",
    "    I_t = np.sum(I_t, axis = 0)\n",
    "    \n",
    "    return np.array([rec_I, I_t, a_n])"
   ]
  },
  {
   "cell_type": "markdown",
   "metadata": {},
   "source": [
    "## Using real waveform to find I-V"
   ]
  },
  {
   "cell_type": "code",
   "execution_count": 5,
   "metadata": {},
   "outputs": [
    {
     "data": {
      "text/html": [
       "<div>\n",
       "<style scoped>\n",
       "    .dataframe tbody tr th:only-of-type {\n",
       "        vertical-align: middle;\n",
       "    }\n",
       "\n",
       "    .dataframe tbody tr th {\n",
       "        vertical-align: top;\n",
       "    }\n",
       "\n",
       "    .dataframe thead th {\n",
       "        text-align: right;\n",
       "    }\n",
       "</style>\n",
       "<table border=\"1\" class=\"dataframe\">\n",
       "  <thead>\n",
       "    <tr style=\"text-align: right;\">\n",
       "      <th></th>\n",
       "      <th>Time</th>\n",
       "      <th>Electric field</th>\n",
       "    </tr>\n",
       "  </thead>\n",
       "  <tbody>\n",
       "    <tr>\n",
       "      <th>0</th>\n",
       "      <td>-5.00</td>\n",
       "      <td>-0.000571</td>\n",
       "    </tr>\n",
       "    <tr>\n",
       "      <th>1</th>\n",
       "      <td>-4.98</td>\n",
       "      <td>-0.000756</td>\n",
       "    </tr>\n",
       "    <tr>\n",
       "      <th>2</th>\n",
       "      <td>-4.96</td>\n",
       "      <td>-0.001311</td>\n",
       "    </tr>\n",
       "    <tr>\n",
       "      <th>3</th>\n",
       "      <td>-4.94</td>\n",
       "      <td>-0.002237</td>\n",
       "    </tr>\n",
       "    <tr>\n",
       "      <th>4</th>\n",
       "      <td>-4.92</td>\n",
       "      <td>-0.002052</td>\n",
       "    </tr>\n",
       "  </tbody>\n",
       "</table>\n",
       "</div>"
      ],
      "text/plain": [
       "   Time  Electric field\n",
       "0 -5.00       -0.000571\n",
       "1 -4.98       -0.000756\n",
       "2 -4.96       -0.001311\n",
       "3 -4.94       -0.002237\n",
       "4 -4.92       -0.002052"
      ]
     },
     "execution_count": 5,
     "metadata": {},
     "output_type": "execute_result"
    }
   ],
   "source": [
    "file = 'sample_data/Symmetric_waveform_short_scan_window.txt'\n",
    "short_sym = pd.read_csv(file, delimiter = '\\t') # import data set\n",
    "short_sym.drop(short_sym.index[[0]]) # dropping extra row\n",
    "short_sym.head() # print first five data points"
   ]
  },
  {
   "cell_type": "code",
   "execution_count": 6,
   "metadata": {},
   "outputs": [],
   "source": [
    "time = short_sym['Time'].values # make columns matrix\n",
    "efield = short_sym[\"Electric field\"].values"
   ]
  },
  {
   "cell_type": "code",
   "execution_count": 7,
   "metadata": {},
   "outputs": [
    {
     "data": {
      "text/plain": [
       "Text(0.5, 0, 'Time')"
      ]
     },
     "execution_count": 7,
     "metadata": {},
     "output_type": "execute_result"
    },
    {
     "data": {
      "image/png": "[encoded data removed]",
      "text/plain": [
       "<Figure size 432x288 with 1 Axes>"
      ]
     },
     "metadata": {
      "needs_background": "light"
     },
     "output_type": "display_data"
    }
   ],
   "source": [
    "plt.plot(time, efield)\n",
    "plt.title(\"Real Waveform Data\")\n",
    "plt.ylabel(\"Electric Field\")\n",
    "plt.xlabel(\"Time\")"
   ]
  },
  {
   "cell_type": "code",
   "execution_count": 8,
   "metadata": {},
   "outputs": [
    {
     "name": "stdout",
     "output_type": "stream",
     "text": [
      "0.014933940605214274\n"
     ]
    }
   ],
   "source": [
    "## Check to see if the integral = 0 ##\n",
    "\n",
    "integral = integrate.simps(x=time, y=efield)\n",
    "print(integral)"
   ]
  },
  {
   "cell_type": "code",
   "execution_count": 9,
   "metadata": {},
   "outputs": [],
   "source": [
    "## Generating Q(V) data ##\n",
    "\n",
    "I = current(Simmons = True)\n",
    "pos_E0 = np.linspace(0,8,2002)\n",
    "neg_E0 = np.linspace(-8,0,2002)\n",
    "E0 = np.concatenate((neg_E0,pos_E0),axis=0)\n",
    "t=np.linspace(-4,4,2002) # try to keep consistent with rest of notebook\n",
    "sweep_pts = 2002\n",
    "\n",
    "pos_sweep = []\n",
    "neg_sweep = []\n",
    "\n",
    "for i in range(0,sweep_pts):\n",
    "    pos_sweep.append(integrate.simps(x=time, y=I.calculate(V=pos_E0[i]*efield))) # probe positive portion of I-V\n",
    "    neg_sweep.append(integrate.simps(x=time, y=I.calculate(V=-pos_E0[i]*efield))) # probe negative portion\n",
    "\n",
    "pos_sweep = np.asarray(pos_sweep)\n",
    "neg_sweep = np.asarray(neg_sweep)"
   ]
  },
  {
   "cell_type": "code",
   "execution_count": 10,
   "metadata": {},
   "outputs": [],
   "source": [
    "rec_I = rectify(V=efield, pos_E0=pos_E0, neg_E0=neg_E0, t=time, Q_pos=pos_sweep, Q_neg=neg_sweep, fit_terms = 12)"
   ]
  },
  {
   "cell_type": "code",
   "execution_count": 11,
   "metadata": {},
   "outputs": [
    {
     "data": {
      "text/plain": [
       "<matplotlib.legend.Legend at 0x229e182f0c8>"
      ]
     },
     "execution_count": 11,
     "metadata": {},
     "output_type": "execute_result"
    },
    {
     "data": {
      "image/png": "[encoded data removed]",
      "text/plain": [
       "<Figure size 432x288 with 1 Axes>"
      ]
     },
     "metadata": {
      "needs_background": "light"
     },
     "output_type": "display_data"
    }
   ],
   "source": [
    "plt.plot(E0, rec_I[0], label = 'Rectified')\n",
    "plt.plot(E0, I.calculate(E0), label = 'OG')\n",
    "plt.title('Recitified I-V')\n",
    "plt.xlabel(\"Voltage\")\n",
    "plt.ylabel(\"Current\")\n",
    "plt.legend()"
   ]
  },
  {
   "cell_type": "markdown",
   "metadata": {},
   "source": [
    "## Test Real Q(V) Data"
   ]
  },
  {
   "cell_type": "code",
   "execution_count": 13,
   "metadata": {},
   "outputs": [
    {
     "data": {
      "text/html": [
       "<div>\n",
       "<style scoped>\n",
       "    .dataframe tbody tr th:only-of-type {\n",
       "        vertical-align: middle;\n",
       "    }\n",
       "\n",
       "    .dataframe tbody tr th {\n",
       "        vertical-align: top;\n",
       "    }\n",
       "\n",
       "    .dataframe thead th {\n",
       "        text-align: right;\n",
       "    }\n",
       "</style>\n",
       "<table border=\"1\" class=\"dataframe\">\n",
       "  <thead>\n",
       "    <tr style=\"text-align: right;\">\n",
       "      <th></th>\n",
       "      <th>-3.6025</th>\n",
       "      <th>-0.00369</th>\n",
       "    </tr>\n",
       "  </thead>\n",
       "  <tbody>\n",
       "    <tr>\n",
       "      <th>0</th>\n",
       "      <td>-3.55247</td>\n",
       "      <td>-0.002580</td>\n",
       "    </tr>\n",
       "    <tr>\n",
       "      <th>1</th>\n",
       "      <td>-3.50244</td>\n",
       "      <td>-0.000909</td>\n",
       "    </tr>\n",
       "    <tr>\n",
       "      <th>2</th>\n",
       "      <td>-3.45238</td>\n",
       "      <td>-0.002580</td>\n",
       "    </tr>\n",
       "    <tr>\n",
       "      <th>3</th>\n",
       "      <td>-3.40235</td>\n",
       "      <td>-0.003690</td>\n",
       "    </tr>\n",
       "    <tr>\n",
       "      <th>4</th>\n",
       "      <td>-3.35231</td>\n",
       "      <td>-0.003690</td>\n",
       "    </tr>\n",
       "  </tbody>\n",
       "</table>\n",
       "</div>"
      ],
      "text/plain": [
       "   -3.6025  -0.00369\n",
       "0 -3.55247 -0.002580\n",
       "1 -3.50244 -0.000909\n",
       "2 -3.45238 -0.002580\n",
       "3 -3.40235 -0.003690\n",
       "4 -3.35231 -0.003690"
      ]
     },
     "execution_count": 13,
     "metadata": {},
     "output_type": "execute_result"
    }
   ],
   "source": [
    "file = 'sample_data/THz_waveform.txt'\n",
    "waveform = pd.read_csv(file, delimiter = '\\t')\n",
    "time = waveform['-3.6025'].values\n",
    "THz = waveform['-0.00369'].values\n",
    "waveform.head()\n"
   ]
  },
  {
   "cell_type": "code",
   "execution_count": 25,
   "metadata": {},
   "outputs": [
    {
     "data": {
      "text/html": [
       "<div>\n",
       "<style scoped>\n",
       "    .dataframe tbody tr th:only-of-type {\n",
       "        vertical-align: middle;\n",
       "    }\n",
       "\n",
       "    .dataframe tbody tr th {\n",
       "        vertical-align: top;\n",
       "    }\n",
       "\n",
       "    .dataframe thead th {\n",
       "        text-align: right;\n",
       "    }\n",
       "</style>\n",
       "<table border=\"1\" class=\"dataframe\">\n",
       "  <thead>\n",
       "    <tr style=\"text-align: right;\">\n",
       "      <th></th>\n",
       "      <th>I_THz</th>\n",
       "      <th>E_THz,pk</th>\n",
       "    </tr>\n",
       "  </thead>\n",
       "  <tbody>\n",
       "    <tr>\n",
       "      <th>0</th>\n",
       "      <td>-259.71303</td>\n",
       "      <td>-35.78321</td>\n",
       "    </tr>\n",
       "    <tr>\n",
       "      <th>1</th>\n",
       "      <td>-248.56799</td>\n",
       "      <td>-29.05402</td>\n",
       "    </tr>\n",
       "    <tr>\n",
       "      <th>2</th>\n",
       "      <td>-238.94951</td>\n",
       "      <td>-24.68993</td>\n",
       "    </tr>\n",
       "    <tr>\n",
       "      <th>3</th>\n",
       "      <td>-229.95019</td>\n",
       "      <td>-21.28921</td>\n",
       "    </tr>\n",
       "    <tr>\n",
       "      <th>4</th>\n",
       "      <td>-217.17182</td>\n",
       "      <td>-18.01873</td>\n",
       "    </tr>\n",
       "  </tbody>\n",
       "</table>\n",
       "</div>"
      ],
      "text/plain": [
       "       I_THz  E_THz,pk\n",
       "0 -259.71303 -35.78321\n",
       "1 -248.56799 -29.05402\n",
       "2 -238.94951 -24.68993\n",
       "3 -229.95019 -21.28921\n",
       "4 -217.17182 -18.01873"
      ]
     },
     "execution_count": 25,
     "metadata": {},
     "output_type": "execute_result"
    }
   ],
   "source": [
    "file = 'figures/THz-IE Fig 3e Nature Physics.txt'\n",
    "I_E = pd.read_csv(file, delimiter = '\\t') # import data set\n",
    "I_eField = I_E['I_THz'].values\n",
    "I_eCharge = I_E['E_THz,pk'].values\n",
    "I_E.head()"
   ]
  },
  {
   "cell_type": "code",
   "execution_count": 26,
   "metadata": {},
   "outputs": [
    {
     "data": {
      "text/html": [
       "<div>\n",
       "<style scoped>\n",
       "    .dataframe tbody tr th:only-of-type {\n",
       "        vertical-align: middle;\n",
       "    }\n",
       "\n",
       "    .dataframe tbody tr th {\n",
       "        vertical-align: top;\n",
       "    }\n",
       "\n",
       "    .dataframe thead th {\n",
       "        text-align: right;\n",
       "    }\n",
       "</style>\n",
       "<table border=\"1\" class=\"dataframe\">\n",
       "  <thead>\n",
       "    <tr style=\"text-align: right;\">\n",
       "      <th></th>\n",
       "      <th>V</th>\n",
       "      <th>Current</th>\n",
       "    </tr>\n",
       "  </thead>\n",
       "  <tbody>\n",
       "    <tr>\n",
       "      <th>0</th>\n",
       "      <td>-5.00</td>\n",
       "      <td>-0.00121</td>\n",
       "    </tr>\n",
       "    <tr>\n",
       "      <th>1</th>\n",
       "      <td>-4.99</td>\n",
       "      <td>-0.00120</td>\n",
       "    </tr>\n",
       "    <tr>\n",
       "      <th>2</th>\n",
       "      <td>-4.98</td>\n",
       "      <td>-0.00119</td>\n",
       "    </tr>\n",
       "    <tr>\n",
       "      <th>3</th>\n",
       "      <td>-4.97</td>\n",
       "      <td>-0.00118</td>\n",
       "    </tr>\n",
       "    <tr>\n",
       "      <th>4</th>\n",
       "      <td>-4.96</td>\n",
       "      <td>-0.00117</td>\n",
       "    </tr>\n",
       "  </tbody>\n",
       "</table>\n",
       "</div>"
      ],
      "text/plain": [
       "      V  Current\n",
       "0 -5.00 -0.00121\n",
       "1 -4.99 -0.00120\n",
       "2 -4.98 -0.00119\n",
       "3 -4.97 -0.00118\n",
       "4 -4.96 -0.00117"
      ]
     },
     "execution_count": 26,
     "metadata": {},
     "output_type": "execute_result"
    }
   ],
   "source": [
    "file = 'figures/IV for THz-IE Fig 3e Nature Physics.txt'\n",
    "I_V = pd.read_csv(file, delimiter = '\\t')\n",
    "I_V = I_V.drop(columns=['Unnamed: 2'])\n",
    "I_vVolt = I_V['V'].values\n",
    "I_vCurrent = I_V['Current'].values\n",
    "I_V.head()"
   ]
  },
  {
   "cell_type": "code",
   "execution_count": 27,
   "metadata": {},
   "outputs": [],
   "source": [
    "def arb_poly(x, *params):\n",
    "    return sum([p*(x**(i+2)) for i, p in enumerate(params)])"
   ]
  },
  {
   "cell_type": "code",
   "execution_count": 28,
   "metadata": {},
   "outputs": [],
   "source": [
    "def rectify(V, E0, t, Q, fit_terms):\n",
    "    \n",
    "    \"\"\"The rectify function takes in experimental values for the input waveform, amplitudes\n",
    "       (waveform maximums and minimums from positive and negative sweeps respectively), and the \n",
    "       results from the Q[V(phi=0)] and Q[V(phi=pi)] sweeps. It fits a polynomial of order 2 \n",
    "       and above to any data and reconstructs an I-V curve.\n",
    "       \n",
    "       ***PARAMETERS***\n",
    "       \n",
    "       V: Waveform.\n",
    "       pos_E0: Waveform maximums from sweep using V(phi=0).\n",
    "       neg_E0: Waveform minimums from sweep using V(phi=pi).\n",
    "       t: Waveform time domain.\n",
    "       Q_pos: Q[V(phi=0)] sweep data. Positive cosine wave as a function of waveform maximums.\n",
    "       Q_neg: Q[V(phi=pi)] sweep data. Negative cosine wave as a function of waveform maximums.\n",
    "       \n",
    "       \"\"\"\n",
    "    \n",
    "    a_n = []                \n",
    "    rec_current = [] \n",
    "    I_t = []\n",
    "\n",
    "#     even_order = (Q_pos+Q_neg)/2\n",
    "#     odd_order = (Q_pos-Q_neg)/2\n",
    "    \n",
    "    popt1, pcov1 = curve_fit(f = arb_poly, xdata=E0 ,   # fit the even ordered data\n",
    "                       ydata = np.real(Q), p0=[1]*(fit_terms)) # default initial guess to be 1\n",
    "\n",
    "\n",
    "#     popt2, pcov2 = curve_fit(f = arb_odd_poly, xdata=pos_E0 ,   # fit the odd ordered data\n",
    "#                        ydata = np.real(odd_order), p0=[1]*(fit_terms))  # default initial guess to be 1\n",
    "\n",
    "\n",
    "    for i in range(0,len(popt1)):\n",
    "        a_n.append(popt1[i]/integrate.simps(V**(i+2),x=t)) \n",
    "\n",
    "    a_n = np.asarray(a_n)    \n",
    "\n",
    "    \n",
    "    for i in range(0,len(a_n)):\n",
    "        rec_current.append(a_n[i]*E0**(i+2))  # reconstruct current\n",
    "        I_t.append(a_n[i]*V**(i+2))\n",
    " \n",
    "    rec_I = np.sum(rec_current, axis = 0)\n",
    "    I_t = np.sum(I_t, axis = 0)\n",
    "    \n",
    "    return np.array([rec_I, I_t, a_n])"
   ]
  },
  {
   "cell_type": "code",
   "execution_count": 29,
   "metadata": {},
   "outputs": [],
   "source": [
    "def Q_data(t, I, V, E0):\n",
    "    \n",
    "    \"\"\"The Q_data function simulates rectified charge as a function of driving amplitudes\n",
    "       for the V(phi=0) and V(phi=pi) cases. Use this function to compare to theoretical\n",
    "       values.\n",
    "       \n",
    "       ***PARAMETERS***\n",
    "       \n",
    "       t: Time domain.\n",
    "       I: Current type. Must be an activated class.\n",
    "       V: Waveform.\n",
    "       E0: List of driving amplitudes. Must go from 0 to E0max (i.e. [0,E0]).\n",
    "       \"\"\"\n",
    "    \n",
    "    sweep = []\n",
    "\n",
    "\n",
    "    for i in range(0,len(E0)):\n",
    "        sweep.append(integrate.simps(x=t, y=I.calculate(V=E0[i]*V))) # probe positive portion of I-V\n",
    "       # neg_sweep.append(integrate.simps(x=t, y=I.calculate(V=-E0[i]*V))) # probe negative portion\n",
    "\n",
    "    sweep = np.asarray(sweep)\n",
    "   \n",
    "    return sweep\n",
    "\n",
    "\n",
    "\n"
   ]
  },
  {
   "cell_type": "code",
   "execution_count": 30,
   "metadata": {},
   "outputs": [],
   "source": [
    "real_IV = rectify(V=THz, E0 = I_eField, t=time, Q=I_eCharge, fit_terms=10)"
   ]
  },
  {
   "cell_type": "code",
   "execution_count": 31,
   "metadata": {},
   "outputs": [
    {
     "data": {
      "text/plain": [
       "<matplotlib.legend.Legend at 0x229e232f208>"
      ]
     },
     "execution_count": 31,
     "metadata": {},
     "output_type": "execute_result"
    },
    {
     "data": {
      "image/png": "[encoded data removed]",
      "text/plain": [
       "<Figure size 1440x360 with 2 Axes>"
      ]
     },
     "metadata": {
      "needs_background": "light"
     },
     "output_type": "display_data"
    },
    {
     "data": {
      "image/png": "[encoded data removed]",
      "text/plain": [
       "<Figure size 1440x360 with 2 Axes>"
      ]
     },
     "metadata": {
      "needs_background": "light"
     },
     "output_type": "display_data"
    }
   ],
   "source": [
    "fig, (ax1, ax2) = plt.subplots(1,2, figsize = (20,5))\n",
    "fig, (ax3, ax4) = plt.subplots(1,2, figsize = (20,5))\n",
    "\n",
    "ax1.plot(time,THz)\n",
    "ax1.set_title(\"THz Pulse\")\n",
    "ax1.set_xlabel(\"Time\")\n",
    "ax1.set_ylabel(\"Efield\")\n",
    "\n",
    "ax2.plot(I_eField,I_eCharge)\n",
    "ax2.set_xlabel('E_THz Peak')\n",
    "ax2.set_ylabel('I_THz')\n",
    "ax2.set_title('Rectified Electrons Per Pulse')\n",
    "\n",
    "ax3.plot(I_vVolt,I_vCurrent)\n",
    "ax3.set_xlabel(\"V_THz Peak\")\n",
    "ax3.set_ylabel(\"I_THz\")\n",
    "ax3.set_title('Experimental I-V')\n",
    "\n",
    "E0 = np.linspace(-5,6, len(real_IV[0]))\n",
    "ax4.plot(E0, real_IV[0]/0.5e5,'r', label= 'reconstructed')\n",
    "ax4.plot(I_vVolt,I_vCurrent, label = 'experimental')\n",
    "# ax4.plot(E0[:-1], np.diff(real_IV[0]/max(real_IV[0]))/np.diff(E0),'r', label= 'reconstructed')\n",
    "# ax4.plot(I_vVolt[:-1],np.diff(I_vCurrent/max(I_vCurrent))/np.diff(I_vVolt), label = 'experimental')\n",
    "\n",
    "\n",
    "ax4.set_title('\"Normalized\" Experimental and Rectified I-V')\n",
    "ax4.legend()"
   ]
  }
 ],
 "metadata": {
  "kernelspec": {
   "display_name": "Python 3",
   "language": "python",
   "name": "python3"
  },
  "language_info": {
   "codemirror_mode": {
    "name": "ipython",
    "version": 3
   },
   "file_extension": ".py",
   "mimetype": "text/x-python",
   "name": "python",
   "nbconvert_exporter": "python",
   "pygments_lexer": "ipython3",
   "version": "3.7.6"
  }
 },
 "nbformat": 4,
 "nbformat_minor": 2
}
